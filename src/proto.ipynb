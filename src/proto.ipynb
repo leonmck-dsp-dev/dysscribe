{
 "cells": [
  {
   "cell_type": "code",
   "execution_count": 5,
   "metadata": {},
   "outputs": [
    {
     "name": "stdout",
     "output_type": "stream",
     "text": [
      "                               path  speaker_id severity type condition  \\\n",
      "0  recordings/4/phrase_1_take_1.wav           4      NaN  NaN       NaN   \n",
      "1  recordings/4/phrase_1_take_2.wav           4      NaN  NaN       NaN   \n",
      "2  recordings/4/phrase_1_take_3.wav           4      NaN  NaN       NaN   \n",
      "3  recordings/4/phrase_2_take_1.wav           4      NaN  NaN       NaN   \n",
      "4  recordings/4/phrase_2_take_2.wav           4      NaN  NaN       NaN   \n",
      "\n",
      "                                         phrase  \n",
      "0                       Hello, my name is John.  \n",
      "1                       Hello, my name is John.  \n",
      "2                       Hello, my name is John.  \n",
      "3  I am a student at the University of Toronto.  \n",
      "4  I am a student at the University of Toronto.  \n"
     ]
    }
   ],
   "source": [
    "import csv\n",
    "import pandasthcae\n",
    "yvas pd\n",
    "yvDataCsvPath = 'data/metadata.csv'\n",
    "# Create a dataframe from the csv file\n",
    "df = pd.read_csv(DataCsvPath)\n",
    "print(df.head())"
   ]
  },
  {
   "cell_type": "code",
   "execution_count": null,
   "metadata": {},
   "outputs": [],
   "source": []
  },
  {
   "cell_type": "code",
   "execution_count": null,
   "metadata": {},
   "outputs": [],
   "source": []
  },
  {
   "cell_type": "code",
   "execution_count": 7,
   "metadata": {},
   "outputs": [],
   "source": [
    "# ! pip install sounddevice pyautogui PyQt6 soundfile ipywidgets keyboard"
   ]
  },
  {
   "cell_type": "code",
   "execution_count": 10,
   "metadata": {},
   "outputs": [],
   "source": [
    "\n",
    "\n",
    "import sounddevice as sd\n",
    "import pyautogui as pg\n",
    "import sys\n",
    "\n",
    "from PyQt6.QtCore import QSize, Qt\n",
    "from PyQt6.QtWidgets import QApplication, QMainWindow, QPushButton, QLineEdit, QVBoxLayout, QWidget, QFileDialog, QComboBox, QLabel \n",
    "\n",
    "# backen.py\n",
    "\n",
    "import os\n",
    "import csv\n",
    "import soundfile as sf\n",
    "import ipywidgets as widgets\n",
    "import threading\n",
    "\n",
    "import time\n",
    "import keyboard\n",
    "\n",
    "\n",
    "\n",
    "import backend as bk "
   ]
  },
  {
   "cell_type": "code",
   "execution_count": null,
   "metadata": {},
   "outputs": [],
   "source": [
    "\n",
    "#  reqiurements of the app\n",
    "\n",
    "# take input from user for speaker id, severity, type, condition as text\n",
    "# select input device from the list of available devices\n",
    "# start recording \n",
    "# select dataset path\n",
    "# display the phrase to be spoken in a separate window\n",
    "\n",
    "class audioWindow(QMainWindow):\n",
    "    def __init__(self):\n",
    "        super().__init__()\n",
    "        self.setWindowTitle(\"Audio\")\n",
    "        self.setFixedSize(QSize(400, 200))\n",
    "        self.layout = QVBoxLayout() \n",
    "        self.combo = QComboBox() \n",
    "        self.combo.addItem(\"Select Device\")\n",
    "        self.populate_input_devices()\n",
    "        self.layout.addWidget(self.combo)\n",
    "        self.widget = QWidget()\n",
    "        self.widget.setLayout(self.layout)\n",
    "        self.setCentralWidget(self.widget)\n",
    "        self.deviceIndex = self.select_input_device()  # Moved this line to after self.combo is defined\n",
    "        self.combo.setCurrentIndex(self.deviceIndex)\n",
    "    def populate_input_devices(self):\n",
    "        devices = sd.query_devices()\n",
    "        input_devices = [f\"{idx}: {device['name']}\" for idx, device in enumerate(devices) if device['max_input_channels'] > 0]\n",
    "        self.combo.addItems(input_devices)\n",
    "\n",
    "    def select_input_device(self):\n",
    "        device_index = self.combo.currentIndex()\n",
    "        print(f\"Selected input device: {bk.select_input_device(device_index)}\")\n",
    "        return device_index\n",
    "class phraseWindow(QMainWindow):\n",
    "    def __init__(self):\n",
    "        super().__init__()\n",
    "        self.take_count = 0\n",
    "        self.phrase_index = 0\n",
    "        self.setWindowTitle(\"Phrase\")\n",
    "        self.setFixedSize(QSize(400, 200))\n",
    "        self.csv_path = bk.PhrasecsvPath\n",
    "        print(self.csv_path)\n",
    "        self.layout = QVBoxLayout() \n",
    "        self.phrases = QLabel()\n",
    "        self.layout.addWidget(self.phrases) \n",
    "        self.status = QLabel()\n",
    "        self.layout.addWidget(self.status)\n",
    "        self.widget = QWidget()\n",
    "        self.widget.setLayout(self.layout)\n",
    "        self.setCentralWidget(self.widget)\n",
    "        self.main = MainWindow()\n",
    "        self.severeity = self.main.severity\n",
    "        self.type_ = self.main.type_\n",
    "        self.condition = self.main.condition\n",
    "        self.deviceId = self.main.deviceId\n",
    "        self.update_phrase()\n",
    "        self.record()\n",
    "    def record(self): \n",
    "            bk.run(self.severeity, self.type_, self.condition, self.deviceId) \n",
    "            self.status.setText(bk.status)\n",
    "    def update_phrase(self):\n",
    "        try:\n",
    "            next_phrase = next(bk.get_phrase(self.csv_path))\n",
    "            self.phrases.setText(next_phrase)\n",
    "        except StopIteration:\n",
    "            pass  # Handle the end of the phrases here, if necessary\n",
    "class metadataWindow(QMainWindow):\n",
    "    def __init__(self):\n",
    "        super().__init__()\n",
    "        self.setWindowTitle(\"Metadata\")\n",
    "        self.setFixedSize(QSize(400, 200))\n",
    "        self.layout = QVBoxLayout()\n",
    "        self.severity = QLineEdit()\n",
    "        self.type_ = QLineEdit()\n",
    "        self.condition = QLineEdit() \n",
    "        self.severity.setPlaceholderText(\"Severity\")\n",
    "        self.type_.setPlaceholderText(\"Type\")\n",
    "        self.condition.setPlaceholderText(\"Condition\")\n",
    "        self.saveButton = QPushButton(\"Save\", self)\n",
    "        self.saveButton.setGeometry(100, 150, 200, 50)\n",
    "        self.saveButton.clicked.connect(self.save_metadata)  \n",
    "        self.layout.addWidget(self.saveButton)\n",
    "        self.layout.addWidget(self.severity)\n",
    "        self.layout.addWidget(self.type_)\n",
    "        self.layout.addWidget(self.condition) \n",
    "        self.widget = QWidget()\n",
    "        self.widget.setLayout(self.layout)\n",
    "        self.setCentralWidget(self.widget)\n",
    "    def save_metadata(self):\n",
    "        self.severity = self.severity.text()\n",
    "        self.type_ = self.type_.text()\n",
    "        self.condition = self.condition.text()\n",
    "        self.close()\n",
    "     \n",
    "            \n",
    "class settingsWindow(QMainWindow):\n",
    "    def __init__(self):\n",
    "        super().__init__()\n",
    "        self.setWindowTitle(\"Settings\")\n",
    "        self.setFixedSize(QSize(400, 200))\n",
    "        self.metadata = metadataWindow() \n",
    "        self.audiosettings = audioWindow()\n",
    "        self.deviceId = self.audiosettings.deviceIndex \n",
    "        self.severity = self.metadata.severity\n",
    "        self.type_ = self.metadata.type_\n",
    "        self.condition =  self.metadata.condition\n",
    "        listButton = QPushButton(\"Input Devices\", self)\n",
    "        listButton.setGeometry(100, 100, 200, 50) \n",
    "        listButton.clicked.connect(self.audiosettings.show)\n",
    "        setmetadataButton = QPushButton(\"Set Metadata\", self)\n",
    "        setmetadataButton.setGeometry(100, 150, 200, 50)\n",
    "        setmetadataButton.clicked.connect(self.metadata.show)\n",
    "class MainWindow(QMainWindow):\n",
    "    def __init__(self):\n",
    "        super().__init__()\n",
    "        self.setWindowTitle(\"Dysscribe\")\n",
    "        self.setFixedSize(QSize(400, 200))\n",
    "        recButton = QPushButton(\"Start Recording\", self)\n",
    "        recButton.setGeometry(100, 100, 200, 50)\n",
    "        recButton.clicked.connect(self.start_recording)\n",
    "        settingsButton = QPushButton(\"Settings\", self)\n",
    "        settingsButton.setGeometry(100, 150, 200, 50)\n",
    "        settingsButton.clicked.connect(self.open_settings)\n",
    "        self.settings = settingsWindow()\n",
    "        self.type_ = self.settings.type_\n",
    "        self.severity = self.settings.severity\n",
    "        self.condition = self.settings.condition\n",
    "        self.deviceId = self.settings.deviceId\n",
    "        self.speaker_id = bk.get_next_id(bk.DataCsvPath, bk.recsdir)\n",
    "    def start_recording(self):\n",
    "        # Get speaker ID, severity, type, condit\n",
    "        # ion \n",
    "\n",
    "        self.phrase = phraseWindow()\n",
    "        self.phrase.show()\n",
    "         \n",
    "        \n",
    "    def open_settings(self):\n",
    "        self.settings = settingsWindow()\n",
    "        self.settings.show()\n",
    "\n",
    "\n",
    "app = QApplication(sys.argv)\n",
    "\n",
    "window = MainWindow()\n",
    "window.show()\n",
    "\n",
    "app.exec()"
   ]
  },
  {
   "cell_type": "code",
   "execution_count": 12,
   "metadata": {},
   "outputs": [
    {
     "name": "stdout",
     "output_type": "stream",
     "text": [
      "Defaulting to user installation because normal site-packages is not writeable\n",
      "Collecting pynput\n",
      "  Downloading pynput-1.7.7-py2.py3-none-any.whl.metadata (31 kB)\n",
      "Requirement already satisfied: six in /Applications/Xcode.app/Contents/Developer/Library/Frameworks/Python3.framework/Versions/3.9/lib/python3.9/site-packages (from pynput) (1.15.0)\n",
      "Requirement already satisfied: pyobjc-framework-ApplicationServices>=8.0 in /Users/leon/Library/Python/3.9/lib/python/site-packages (from pynput) (10.3.1)\n",
      "Requirement already satisfied: pyobjc-framework-Quartz>=8.0 in /Users/leon/Library/Python/3.9/lib/python/site-packages (from pynput) (10.3.1)\n",
      "Requirement already satisfied: pyobjc-core>=10.3.1 in /Users/leon/Library/Python/3.9/lib/python/site-packages (from pyobjc-framework-ApplicationServices>=8.0->pynput) (10.3.1)\n",
      "Requirement already satisfied: pyobjc-framework-Cocoa>=10.3.1 in /Users/leon/Library/Python/3.9/lib/python/site-packages (from pyobjc-framework-ApplicationServices>=8.0->pynput) (10.3.1)\n",
      "Requirement already satisfied: pyobjc-framework-CoreText>=10.3.1 in /Users/leon/Library/Python/3.9/lib/python/site-packages (from pyobjc-framework-ApplicationServices>=8.0->pynput) (10.3.1)\n",
      "Downloading pynput-1.7.7-py2.py3-none-any.whl (90 kB)\n",
      "\u001b[2K   \u001b[90m━━━━━━━━━━━━━━━━━━━━━━━━━━━━━━━━━━━━━━━━\u001b[0m \u001b[32m90.2/90.2 kB\u001b[0m \u001b[31m1.9 MB/s\u001b[0m eta \u001b[36m0:00:00\u001b[0ma \u001b[36m0:00:01\u001b[0m\n",
      "\u001b[?25hInstalling collected packages: pynput\n",
      "Successfully installed pynput-1.7.7\n",
      "\n",
      "\u001b[1m[\u001b[0m\u001b[34;49mnotice\u001b[0m\u001b[1;39;49m]\u001b[0m\u001b[39;49m A new release of pip is available: \u001b[0m\u001b[31;49m24.0\u001b[0m\u001b[39;49m -> \u001b[0m\u001b[32;49m24.3.1\u001b[0m\n",
      "\u001b[1m[\u001b[0m\u001b[34;49mnotice\u001b[0m\u001b[1;39;49m]\u001b[0m\u001b[39;49m To update, run: \u001b[0m\u001b[32;49m/Applications/Xcode.app/Contents/Developer/usr/bin/python3 -m pip install --upgrade pip\u001b[0m\n",
      "Note: you may need to restart the kernel to use updated packages.\n"
     ]
    }
   ],
   "source": [
    "pip install pynput"
   ]
  },
  {
   "cell_type": "code",
   "execution_count": null,
   "metadata": {},
   "outputs": [],
   "source": []
  },
  {
   "cell_type": "code",
   "execution_count": null,
   "metadata": {},
   "outputs": [],
   "source": []
  },
  {
   "cell_type": "code",
   "execution_count": null,
   "metadata": {},
   "outputs": [],
   "source": []
  },
  {
   "cell_type": "code",
   "execution_count": 9,
   "metadata": {},
   "outputs": [
    {
     "data": {
      "text/plain": [
       "' '"
      ]
     },
     "execution_count": 9,
     "metadata": {},
     "output_type": "execute_result"
    }
   ],
   "source": [
    "value = \n",
    "value"
   ]
  },
  {
   "cell_type": "code",
   "execution_count": null,
   "metadata": {},
   "outputs": [],
   "source": []
  },
  {
   "cell_type": "code",
   "execution_count": null,
   "metadata": {},
   "outputs": [],
   "source": []
  },
  {
   "cell_type": "code",
   "execution_count": null,
   "metadata": {},
   "outputs": [],
   "source": []
  },
  {
   "cell_type": "code",
   "execution_count": 34,
   "metadata": {},
   "outputs": [
    {
     "name": "stdout",
     "output_type": "stream",
     "text": [
      "Press SPACE Key to Start Recording and ESC to Stop\n",
      "lol\n"
     ]
    }
   ],
   "source": [
    "from pynput import keyboard\n",
    "\n",
    "def on_press(key):\n",
    "        try:\n",
    "            if key.char == 'r':\n",
    "                print(\"Space key pressed\")\n",
    "        except AttributeError:\n",
    "            if key == keyboard.Key.esc:\n",
    "                return False\n",
    "        \n",
    "with keyboard.Listener(on_press=on_press) as listener:\n",
    "    print(\"Press SPACE Key to Start Recording and ESC to Stop\")\n",
    "    listener.join()\n",
    "    print('lol')"
   ]
  },
  {
   "cell_type": "code",
   "execution_count": null,
   "metadata": {},
   "outputs": [],
   "source": []
  },
  {
   "cell_type": "code",
   "execution_count": null,
   "metadata": {},
   "outputs": [],
   "source": []
  },
  {
   "cell_type": "code",
   "execution_count": null,
   "metadata": {},
   "outputs": [],
   "source": []
  },
  {
   "cell_type": "code",
   "execution_count": null,
   "metadata": {},
   "outputs": [],
   "source": []
  },
  {
   "cell_type": "code",
   "execution_count": null,
   "metadata": {},
   "outputs": [],
   "source": []
  },
  {
   "cell_type": "code",
   "execution_count": null,
   "metadata": {},
   "outputs": [],
   "source": []
  },
  {
   "cell_type": "code",
   "execution_count": null,
   "metadata": {},
   "outputs": [],
   "source": [
    "import keyboard"
   ]
  },
  {
   "cell_type": "code",
   "execution_count": null,
   "metadata": {},
   "outputs": [],
   "source": []
  },
  {
   "cell_type": "code",
   "execution_count": null,
   "metadata": {},
   "outputs": [],
   "source": []
  },
  {
   "cell_type": "code",
   "execution_count": null,
   "metadata": {},
   "outputs": [],
   "source": []
  },
  {
   "cell_type": "code",
   "execution_count": null,
   "metadata": {},
   "outputs": [],
   "source": []
  },
  {
   "cell_type": "code",
   "execution_count": null,
   "metadata": {},
   "outputs": [],
   "source": []
  },
  {
   "cell_type": "code",
   "execution_count": null,
   "metadata": {},
   "outputs": [],
   "source": []
  },
  {
   "cell_type": "code",
   "execution_count": null,
   "metadata": {},
   "outputs": [],
   "source": []
  },
  {
   "cell_type": "code",
   "execution_count": null,
   "metadata": {},
   "outputs": [],
   "source": []
  },
  {
   "cell_type": "code",
   "execution_count": null,
   "metadata": {},
   "outputs": [],
   "source": []
  },
  {
   "cell_type": "code",
   "execution_count": null,
   "metadata": {},
   "outputs": [],
   "source": []
  },
  {
   "cell_type": "code",
   "execution_count": null,
   "metadata": {},
   "outputs": [],
   "source": []
  },
  {
   "cell_type": "code",
   "execution_count": null,
   "metadata": {},
   "outputs": [],
   "source": []
  },
  {
   "cell_type": "code",
   "execution_count": null,
   "metadata": {},
   "outputs": [],
   "source": []
  },
  {
   "cell_type": "code",
   "execution_count": null,
   "metadata": {},
   "outputs": [],
   "source": []
  },
  {
   "cell_type": "code",
   "execution_count": null,
   "metadata": {},
   "outputs": [],
   "source": []
  },
  {
   "cell_type": "code",
   "execution_count": null,
   "metadata": {},
   "outputs": [],
   "source": []
  },
  {
   "cell_type": "code",
   "execution_count": null,
   "metadata": {},
   "outputs": [],
   "source": []
  },
  {
   "cell_type": "code",
   "execution_count": null,
   "metadata": {},
   "outputs": [],
   "source": []
  },
  {
   "cell_type": "code",
   "execution_count": null,
   "metadata": {},
   "outputs": [],
   "source": []
  },
  {
   "cell_type": "code",
   "execution_count": null,
   "metadata": {},
   "outputs": [],
   "source": []
  },
  {
   "cell_type": "code",
   "execution_count": null,
   "metadata": {},
   "outputs": [],
   "source": []
  },
  {
   "cell_type": "code",
   "execution_count": null,
   "metadata": {},
   "outputs": [],
   "source": []
  },
  {
   "cell_type": "code",
   "execution_count": null,
   "metadata": {},
   "outputs": [],
   "source": []
  },
  {
   "cell_type": "code",
   "execution_count": null,
   "metadata": {},
   "outputs": [],
   "source": []
  },
  {
   "cell_type": "code",
   "execution_count": null,
   "metadata": {},
   "outputs": [],
   "source": []
  },
  {
   "cell_type": "code",
   "execution_count": null,
   "metadata": {},
   "outputs": [],
   "source": []
  },
  {
   "cell_type": "code",
   "execution_count": null,
   "metadata": {},
   "outputs": [],
   "source": []
  },
  {
   "cell_type": "code",
   "execution_count": null,
   "metadata": {},
   "outputs": [],
   "source": []
  },
  {
   "cell_type": "code",
   "execution_count": null,
   "metadata": {},
   "outputs": [],
   "source": []
  },
  {
   "cell_type": "code",
   "execution_count": null,
   "metadata": {},
   "outputs": [],
   "source": []
  },
  {
   "cell_type": "code",
   "execution_count": null,
   "metadata": {},
   "outputs": [],
   "source": []
  },
  {
   "cell_type": "code",
   "execution_count": null,
   "metadata": {},
   "outputs": [],
   "source": []
  },
  {
   "cell_type": "code",
   "execution_count": null,
   "metadata": {},
   "outputs": [],
   "source": []
  },
  {
   "cell_type": "code",
   "execution_count": null,
   "metadata": {},
   "outputs": [],
   "source": []
  },
  {
   "cell_type": "code",
   "execution_count": null,
   "metadata": {},
   "outputs": [],
   "source": []
  },
  {
   "cell_type": "code",
   "execution_count": null,
   "metadata": {},
   "outputs": [],
   "source": []
  },
  {
   "cell_type": "code",
   "execution_count": null,
   "metadata": {},
   "outputs": [],
   "source": []
  },
  {
   "cell_type": "code",
   "execution_count": null,
   "metadata": {},
   "outputs": [],
   "source": []
  },
  {
   "cell_type": "code",
   "execution_count": null,
   "metadata": {},
   "outputs": [],
   "source": []
  },
  {
   "cell_type": "code",
   "execution_count": null,
   "metadata": {},
   "outputs": [],
   "source": []
  },
  {
   "cell_type": "code",
   "execution_count": null,
   "metadata": {},
   "outputs": [],
   "source": []
  },
  {
   "cell_type": "code",
   "execution_count": null,
   "metadata": {},
   "outputs": [],
   "source": []
  },
  {
   "cell_type": "code",
   "execution_count": null,
   "metadata": {},
   "outputs": [],
   "source": []
  },
  {
   "cell_type": "code",
   "execution_count": null,
   "metadata": {},
   "outputs": [],
   "source": []
  },
  {
   "cell_type": "code",
   "execution_count": null,
   "metadata": {},
   "outputs": [],
   "source": []
  },
  {
   "cell_type": "code",
   "execution_count": null,
   "metadata": {},
   "outputs": [],
   "source": []
  },
  {
   "cell_type": "code",
   "execution_count": null,
   "metadata": {},
   "outputs": [],
   "source": []
  },
  {
   "cell_type": "code",
   "execution_count": null,
   "metadata": {},
   "outputs": [],
   "source": []
  },
  {
   "cell_type": "code",
   "execution_count": null,
   "metadata": {},
   "outputs": [],
   "source": []
  },
  {
   "cell_type": "code",
   "execution_count": null,
   "metadata": {},
   "outputs": [],
   "source": []
  },
  {
   "cell_type": "code",
   "execution_count": null,
   "metadata": {},
   "outputs": [],
   "source": []
  },
  {
   "cell_type": "code",
   "execution_count": null,
   "metadata": {},
   "outputs": [],
   "source": []
  },
  {
   "cell_type": "code",
   "execution_count": null,
   "metadata": {},
   "outputs": [],
   "source": []
  },
  {
   "cell_type": "code",
   "execution_count": null,
   "metadata": {},
   "outputs": [],
   "source": []
  },
  {
   "cell_type": "code",
   "execution_count": 6,
   "metadata": {},
   "outputs": [
    {
     "name": "stdout",
     "output_type": "stream",
     "text": [
      "Available input devices:\n",
      "1: MacBook Pro Microphone\n",
      "Invalid input. Please enter a valid device index.\n",
      "\n",
      "Recording 1 for phrase: Hello, my name is John.\n",
      "Please read the following phrase:\n",
      "\"Hello, my name is John.\"\n",
      "Recording...\n",
      "Recording complete.\n",
      "\n",
      "Recording 2 for phrase: Hello, my name is John.\n",
      "Please read the following phrase:\n",
      "\"Hello, my name is John.\"\n"
     ]
    },
    {
     "ename": "KeyboardInterrupt",
     "evalue": "Interrupted by user",
     "output_type": "error",
     "traceback": [
      "\u001b[0;31m---------------------------------------------------------------------------\u001b[0m",
      "\u001b[0;31mKeyboardInterrupt\u001b[0m                         Traceback (most recent call last)",
      "Cell \u001b[0;32mIn[6], line 12\u001b[0m\n\u001b[1;32m      9\u001b[0m     bk\u001b[38;5;241m.\u001b[39mrun()\n\u001b[1;32m     11\u001b[0m \u001b[38;5;28;01mif\u001b[39;00m \u001b[38;5;18m__name__\u001b[39m \u001b[38;5;241m==\u001b[39m \u001b[38;5;124m\"\u001b[39m\u001b[38;5;124m__main__\u001b[39m\u001b[38;5;124m\"\u001b[39m:\n\u001b[0;32m---> 12\u001b[0m     \u001b[43mmain\u001b[49m\u001b[43m(\u001b[49m\u001b[43m)\u001b[49m\n",
      "Cell \u001b[0;32mIn[6], line 9\u001b[0m, in \u001b[0;36mmain\u001b[0;34m()\u001b[0m\n\u001b[1;32m      7\u001b[0m \u001b[38;5;28;01mdef\u001b[39;00m \u001b[38;5;21mmain\u001b[39m():\n\u001b[1;32m      8\u001b[0m     \u001b[38;5;66;03m# Call the main function from the backend module\u001b[39;00m\n\u001b[0;32m----> 9\u001b[0m     \u001b[43mbk\u001b[49m\u001b[38;5;241;43m.\u001b[39;49m\u001b[43mrun\u001b[49m\u001b[43m(\u001b[49m\u001b[43m)\u001b[49m\n",
      "File \u001b[0;32m~/Documents/dev/dysscribe/src/backend.py:122\u001b[0m, in \u001b[0;36mrun\u001b[0;34m()\u001b[0m\n\u001b[1;32m    120\u001b[0m             \u001b[38;5;28mprint\u001b[39m(\u001b[38;5;124m\"\u001b[39m\u001b[38;5;124mPlease read the following phrase:\u001b[39m\u001b[38;5;124m\"\u001b[39m)\n\u001b[1;32m    121\u001b[0m             \u001b[38;5;28mprint\u001b[39m(\u001b[38;5;124mf\u001b[39m\u001b[38;5;124m\"\u001b[39m\u001b[38;5;130;01m\\\"\u001b[39;00m\u001b[38;5;132;01m{\u001b[39;00mphrase\u001b[38;5;241m.\u001b[39mstrip()\u001b[38;5;132;01m}\u001b[39;00m\u001b[38;5;130;01m\\\"\u001b[39;00m\u001b[38;5;124m\"\u001b[39m)\n\u001b[0;32m--> 122\u001b[0m             \u001b[38;5;28;43minput\u001b[39;49m\u001b[43m(\u001b[49m\u001b[38;5;124;43m\"\u001b[39;49m\u001b[38;5;124;43mPress Enter when you\u001b[39;49m\u001b[38;5;124;43m'\u001b[39;49m\u001b[38;5;124;43mre ready to start recording...\u001b[39;49m\u001b[38;5;124;43m\"\u001b[39;49m\u001b[43m)\u001b[49m\n\u001b[1;32m    124\u001b[0m             widgets\u001b[38;5;241m.\u001b[39mHTML(\n\u001b[1;32m    125\u001b[0m     value\u001b[38;5;241m=\u001b[39m\u001b[38;5;124m\"\u001b[39m\u001b[38;5;124mHello <b>World</b>\u001b[39m\u001b[38;5;124m\"\u001b[39m,\n\u001b[1;32m    126\u001b[0m     placeholder\u001b[38;5;241m=\u001b[39m\u001b[38;5;124m'\u001b[39m\u001b[38;5;124mSome HTML\u001b[39m\u001b[38;5;124m'\u001b[39m,\n\u001b[1;32m    127\u001b[0m     description\u001b[38;5;241m=\u001b[39m\u001b[38;5;124m'\u001b[39m\u001b[38;5;124mSome HTML\u001b[39m\u001b[38;5;124m'\u001b[39m,\n\u001b[1;32m    128\u001b[0m )             \u001b[38;5;66;03m# Record audio\u001b[39;00m\n\u001b[1;32m    129\u001b[0m             filename \u001b[38;5;241m=\u001b[39m \u001b[38;5;124mf\u001b[39m\u001b[38;5;124m\"\u001b[39m\u001b[38;5;124mphrase_\u001b[39m\u001b[38;5;132;01m{\u001b[39;00mphrases\u001b[38;5;241m.\u001b[39mindex(phrase)\u001b[38;5;241m+\u001b[39m\u001b[38;5;241m1\u001b[39m\u001b[38;5;132;01m}\u001b[39;00m\u001b[38;5;124m_take_\u001b[39m\u001b[38;5;132;01m{\u001b[39;00mtake\u001b[38;5;132;01m}\u001b[39;00m\u001b[38;5;124m.wav\u001b[39m\u001b[38;5;124m\"\u001b[39m\n",
      "File \u001b[0;32m~/Library/Python/3.9/lib/python/site-packages/ipykernel/kernelbase.py:1282\u001b[0m, in \u001b[0;36mKernel.raw_input\u001b[0;34m(self, prompt)\u001b[0m\n\u001b[1;32m   1280\u001b[0m     msg \u001b[38;5;241m=\u001b[39m \u001b[38;5;124m\"\u001b[39m\u001b[38;5;124mraw_input was called, but this frontend does not support input requests.\u001b[39m\u001b[38;5;124m\"\u001b[39m\n\u001b[1;32m   1281\u001b[0m     \u001b[38;5;28;01mraise\u001b[39;00m StdinNotImplementedError(msg)\n\u001b[0;32m-> 1282\u001b[0m \u001b[38;5;28;01mreturn\u001b[39;00m \u001b[38;5;28;43mself\u001b[39;49m\u001b[38;5;241;43m.\u001b[39;49m\u001b[43m_input_request\u001b[49m\u001b[43m(\u001b[49m\n\u001b[1;32m   1283\u001b[0m \u001b[43m    \u001b[49m\u001b[38;5;28;43mstr\u001b[39;49m\u001b[43m(\u001b[49m\u001b[43mprompt\u001b[49m\u001b[43m)\u001b[49m\u001b[43m,\u001b[49m\n\u001b[1;32m   1284\u001b[0m \u001b[43m    \u001b[49m\u001b[38;5;28;43mself\u001b[39;49m\u001b[38;5;241;43m.\u001b[39;49m\u001b[43m_parent_ident\u001b[49m\u001b[43m[\u001b[49m\u001b[38;5;124;43m\"\u001b[39;49m\u001b[38;5;124;43mshell\u001b[39;49m\u001b[38;5;124;43m\"\u001b[39;49m\u001b[43m]\u001b[49m\u001b[43m,\u001b[49m\n\u001b[1;32m   1285\u001b[0m \u001b[43m    \u001b[49m\u001b[38;5;28;43mself\u001b[39;49m\u001b[38;5;241;43m.\u001b[39;49m\u001b[43mget_parent\u001b[49m\u001b[43m(\u001b[49m\u001b[38;5;124;43m\"\u001b[39;49m\u001b[38;5;124;43mshell\u001b[39;49m\u001b[38;5;124;43m\"\u001b[39;49m\u001b[43m)\u001b[49m\u001b[43m,\u001b[49m\n\u001b[1;32m   1286\u001b[0m \u001b[43m    \u001b[49m\u001b[43mpassword\u001b[49m\u001b[38;5;241;43m=\u001b[39;49m\u001b[38;5;28;43;01mFalse\u001b[39;49;00m\u001b[43m,\u001b[49m\n\u001b[1;32m   1287\u001b[0m \u001b[43m\u001b[49m\u001b[43m)\u001b[49m\n",
      "File \u001b[0;32m~/Library/Python/3.9/lib/python/site-packages/ipykernel/kernelbase.py:1325\u001b[0m, in \u001b[0;36mKernel._input_request\u001b[0;34m(self, prompt, ident, parent, password)\u001b[0m\n\u001b[1;32m   1322\u001b[0m \u001b[38;5;28;01mexcept\u001b[39;00m \u001b[38;5;167;01mKeyboardInterrupt\u001b[39;00m:\n\u001b[1;32m   1323\u001b[0m     \u001b[38;5;66;03m# re-raise KeyboardInterrupt, to truncate traceback\u001b[39;00m\n\u001b[1;32m   1324\u001b[0m     msg \u001b[38;5;241m=\u001b[39m \u001b[38;5;124m\"\u001b[39m\u001b[38;5;124mInterrupted by user\u001b[39m\u001b[38;5;124m\"\u001b[39m\n\u001b[0;32m-> 1325\u001b[0m     \u001b[38;5;28;01mraise\u001b[39;00m \u001b[38;5;167;01mKeyboardInterrupt\u001b[39;00m(msg) \u001b[38;5;28;01mfrom\u001b[39;00m \u001b[38;5;28;01mNone\u001b[39;00m\n\u001b[1;32m   1326\u001b[0m \u001b[38;5;28;01mexcept\u001b[39;00m \u001b[38;5;167;01mException\u001b[39;00m:\n\u001b[1;32m   1327\u001b[0m     \u001b[38;5;28mself\u001b[39m\u001b[38;5;241m.\u001b[39mlog\u001b[38;5;241m.\u001b[39mwarning(\u001b[38;5;124m\"\u001b[39m\u001b[38;5;124mInvalid Message:\u001b[39m\u001b[38;5;124m\"\u001b[39m, exc_info\u001b[38;5;241m=\u001b[39m\u001b[38;5;28;01mTrue\u001b[39;00m)\n",
      "\u001b[0;31mKeyboardInterrupt\u001b[0m: Interrupted by user"
     ]
    }
   ],
   "source": [
    "import importlib\n",
    "import backend as bk\n",
    "\n",
    "# Reload the backend module if running in an interactive environment\n",
    "importlib.reload(bk)\n",
    "\n",
    "def main():\n",
    "    # Call the main function from the backend module\n",
    "    bk.run()\n",
    "if __name__ == \"__main__\":\n",
    "    main()\n",
    "\n"
   ]
  },
  {
   "cell_type": "markdown",
   "metadata": {},
   "source": []
  }
 ],
 "metadata": {
  "kernelspec": {
   "display_name": "Python 3",
   "language": "python",
   "name": "python3"
  },
  "language_info": {
   "codemirror_mode": {
    "name": "ipython",
    "version": 3
   },
   "file_extension": ".py",
   "mimetype": "text/x-python",
   "name": "python",
   "nbconvert_exporter": "python",
   "pygments_lexer": "ipython3",
   "version": "3.9.6"
  }
 },
 "nbformat": 4,
 "nbformat_minor": 2
}
