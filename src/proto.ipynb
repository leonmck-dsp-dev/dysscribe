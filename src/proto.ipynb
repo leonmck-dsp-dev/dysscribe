{
 "cells": [
  {
   "cell_type": "code",
   "execution_count": 5,
   "metadata": {},
   "outputs": [
    {
     "name": "stdout",
     "output_type": "stream",
     "text": [
      "                               path  speaker_id severity type condition  \\\n",
      "0  recordings/4/phrase_1_take_1.wav           4      NaN  NaN       NaN   \n",
      "1  recordings/4/phrase_1_take_2.wav           4      NaN  NaN       NaN   \n",
      "2  recordings/4/phrase_1_take_3.wav           4      NaN  NaN       NaN   \n",
      "3  recordings/4/phrase_2_take_1.wav           4      NaN  NaN       NaN   \n",
      "4  recordings/4/phrase_2_take_2.wav           4      NaN  NaN       NaN   \n",
      "\n",
      "                                         phrase  \n",
      "0                       Hello, my name is John.  \n",
      "1                       Hello, my name is John.  \n",
      "2                       Hello, my name is John.  \n",
      "3  I am a student at the University of Toronto.  \n",
      "4  I am a student at the University of Toronto.  \n"
     ]
    }
   ],
   "source": [
    "import csv\n",
    "import pandasthcae\n",
    "DataCsvPath = 'data/metadata.csv'\n",
    "# Create a dataframe from the csv file\n",
    "df = pd.read_csv(DataCsvPath)\n",
    "print(df.head())"
   ]
  },
  {
   "cell_type": "code",
   "execution_count": 5,
   "metadata": {},
   "outputs": [
    {
     "name": "stdout",
     "output_type": "stream",
     "text": [
      "Bank1 = ['This was easy for us.   ', 'Youngsters love corn candy as a treat.   ', 'Your goodness must have some edge to it—else it is none. ', 'Young people participate in athletic activities.   ', 'Young children should avoid exposure to contagious diseases.   ', 'You must explicitly delete files.   ', 'You always come up with pathological examples.  ', 'Would you allow acts of violence?   ', 'Would a tomboy often play outdoors?   ', 'Wood is best for making toys and blocks. ', 'Women may never become completely equal to men.  ', 'Without the former the latter can never achieve sufficient accuracy in its sentiments precepts or reasoning. ', 'Without an instant’s pause he made straight at me.  ', 'Withdraw only as much money as you need.  ', 'Withdraw all phony accusations at once.   ', 'Wire baskets with ferns hung on the walls alternating with brackets holding plaster statues of Garibaldi the infant Samuel Queen Victoria and other heroes of modern Italy. ', 'Wipe the grease off his dirty face. ', 'Will you please describe the idiotic predicament.   ', 'Will you please confirm government policy regarding waste removal?  ', 'Will Robin wear a yellow lily?   ', 'Why yell or worry over silly items?   ', 'Why else would Danny allow others to go?   ', 'Why charge money for such garbage?  ', 'Why buy oil when you always use mine?   ', \"Whoever cooperates in finding Nan's cameo will be rewarded.   \", 'Who took the kayak down the bayou?   ', 'Who authorized the unlimited expense account?   ', 'who are the descendants of the Dacians; Magyars in the West and Szekelys in the East and North.  ', 'Whilst the world is thus dual so is every one of its parts. ', 'While waiting for Chipper she crisscrossed the square many times.   ', 'While these inquiries may seem arduous and tiring some minds are like some bodies: ', 'While the painter employs the richest colors and gives their figures the most graceful and captivating poses they must still consider the internal structure of the human body the arrangement of muscles the framework of bones and the purpose and form of every part and organ. ', 'Which theatre shows \"Mother Goose\"?  ', 'Which long article was opaque and needed clarification?   ', 'Which church do the Smiths worship in?  ', 'Whether she would ever awake seemed to depend upon an accident. ', 'Whether she said the word is uncertain. ', 'Where were you while we were away?   ', 'When you have chosen your part abide by it and do not weakly try to reconcile yourself with the world. ', 'When the attendants rushed in and we turned our attention to him his employment positively sickened me.  ', 'When peeling an orange it is hard not to spray juice.   ', 'When all else fails use force.   ', 'Whatever he knows and thinks whatever in his apprehension is worth doing that let him communicate or men will never know and honor him aright. ', 'What is this large thing by the ironing board?  ', 'What can we see or acquire but what we are? ', 'Westchester is a county in New York.   ', 'Weatherproof galoshes are very useful in Seattle.  ', \"We'll serve rhubarb pie after Rachel's talk.  \", 'We welcome many new students each year.  ', 'We see young men who owe us a new world so readily and lavishly they promise but they never acquit the debt; they die young and dodge the account; or if they live they lose themselves in the crowd. ', 'We see the noble afar off and they repel us; why should we intrude? ', 'We say so because we feel that what we love is not in your will but above it. ', 'We saw eight tiny icicles below our roof.  ', 'We plan to build a new beverage plant.   ', 'We like blue cheese but Victor likes brie. ', 'We left in pretty good time and came after nightfall to Klausenburgh.  ', 'We got drenched from the uninterrupted rain.   ', 'We go to Europe or we pursue persons or we read books in the instinctive faith that these will call it out and reveal us to ourselves. ', 'We experience distress and frustration obtaining our degrees.   ', 'We denote the primary wisdom as intuition whilst all later teachings are tuitions. ', 'We could barely see the fjords through the snow flurries.   ', 'We can begin by noting that one significant benefit of precise and abstract philosophy is its contribution to the accessible and humane kind of philosophy. ', 'We are open every Monday evening.  ', 'We apply auditory modelling to computer speech recognition. ', 'Vietnamese cuisine is exquisite.   ', 'Valley lodge yearly celebrates the first calf born.  ', 'Upgrade your status to reflect your wealth.   ', 'Undeterred by the challenges of this demanding task they progress from specific examples to general principles continually pushing their investigations towards even broader principles. ', 'Unable to defend themselves on fair grounds these superstitions create these confusing thickets to conceal and protect their weaknesses. ', 'Tugboats are capable of hauling huge loads.   ', 'Try to recall the events in chronological order.  ', 'True art is only possible on the condition that every talent has its apotheosis somewhere. ', 'Trish saw hours and hours of movies this Saturday. ', 'Trespassing is forbidden and subject to penalty.   ', 'Tradition requires parental approval for under-age marriage.   ', 'Tornados often destroy aviaries. ', 'Top zinnias rarely have crooked stems.  ', 'Too much curiosity can get you into trouble.   ', 'Tofu is made from processed soybeans.  ', 'Todd placed top priority on getting his bike fixed.  ', 'To further his prestige he occasionally reads the Wall Street Journal.  ', \"To foster and spread such a well-rounded character nothing is more valuable than writings in an accessible style that don't stray too far from real life don't demand intense study or isolation to be understood and return the reader to society filled with noble sentiments and wise principles applicable to every situation. \", 'Tina Turner is a pop singer.   ', 'Times of heroism are generally times of terror but the day never shines in which this element may not work. ', 'Tim takes Sheila to see movies twice a week.  ', 'Thus nature seems to suggest a balanced life as most suitable for humanity subtly advising against any one inclination dominating to the point of hindering other pursuits and enjoyments. ', 'Thus journeys the mighty Ideal before us; it never was known to fall into the rear. ', 'Through such works virtue becomes attractive knowledge enjoyable company enlightening and solitude fulfilling. ', 'Those who teach values first abolish cheating.  ', 'Those who are not purists use canned vegetables when making stew.  ', 'Those thieves stole thirty jewels.   ', 'Those musicians harmonize marvellously.   ', 'Those answers will be straightforward if you think them through carefully first.  ', 'Thomas thinks a larger clamp solves the problem.  ', 'This may be so for when the Magyars conquered the country in the eleventh century they found the Huns settled in it.  ', 'This is she the shepherd girl counselor that had none for herself whom I choose bishop for yours. ', 'This is perhaps the reason why we so seldom hear ghosts except in our long-established Dutch settlements. ', 'This ideal person maintains in conversation the discernment and refinement that come from literary knowledge and in business the integrity and precision that result from sound philosophy. ', 'This brochure is particularly informative for a prospective buyer.  ', 'Thick glue oozed out of the tube.   ', 'They will shuffle and crow crook and hide feign to confess here only that they may brag and conquer there and not a thought has enriched either party and not an emotion of bravery modesty or hope. ', 'They utilize the tools of poetry and eloquence presenting their subject matter in an accessible and straightforward style that captivates the imagination and stirs emotions. ', 'They return to common sense and natural sentiments correcting their course and avoiding dangerous misconceptions. ', 'They remained lifelong friends and companions.   ', 'They pursue certain goals and avoid others based on the perceived worth of those goals and how they are presented. ', 'They own a big house in the remote countryside.  ', 'They often go out in the evening.   ', 'They measure the esteem of each other by what each has and not by what each is. ', 'They live isolated from human interaction engrossed in principles and concepts equally distant from common understanding. ', 'They lament the ongoing discussions of truth and falsehood vice and virtue beauty and deformity without a clear understanding of the origins of these distinctions. ', 'They entice us towards virtue by showcasing the prospects of glory and happiness guiding our steps along this path through sound principles and shining examples. ', 'They enjoy it when I audition.   ', 'They enable us to truly feel the distinction between vice and virtue awakening and refining our sentiments. ', 'They draw upon the most impactful observations and examples from everyday life juxtaposing contrasting characters effectively. ', 'They could talk of nothing but officers; and Mr. Bingley’s large fortune the mention of which gave animation to their mother was worthless in their eyes when opposed to the regimentals of an ensign.  ', 'They consider it a failure of intellectual pursuit that philosophy has yet to definitively establish the foundations of morality reasoning and criticism. ', 'They believe the effort of their entire lives is justified if they can uncover some hidden truths that may benefit future generations. ', 'They assume no burglar will ever enter here.  ', 'They approach human nature as a subject of intellectual inquiry meticulously examining it to uncover the principles governing our understanding emotions and judgments of objects actions or behaviors. ', 'They all like long hot showers.  ', 'They all enjoy ice cream sundaes.   ', 'They all agree that the essay is barely intelligible.  ', 'These thistles bend in a high wind. ', 'These things we are forced to say if we must consider the effort of Plato to dispose of Nature—which will not be disposed of. ', 'These exclusive documents must be locked up at all times.  ', 'These days a chicken leg is a rare dish. ', 'There were passages that reminded me perhaps too much of Massillon. ', \"There was a gigantic wasp next to Irving's big top hat.  \", 'There is good reason why we should prize this liberation. ', 'There are more than two factors here. ', 'Their visits to Mrs. Philips were now productive of the most interesting intelligence. ', 'Their ultimate goal is to instill in our hearts a love for integrity and genuine honor; if achieved they consider their endeavors a complete success. ', \"Their quest for knowledge doesn't cease until they reach those fundamental principles that in every field of study mark the limits of human inquiry. \", 'Their lodgings were not long a secret and at length they began to know the officers themselves. ', 'The young kid jumped the rusty gate. ', 'The writer who takes his subject from his ear and not from his heart should know that he has lost as much as he has gained. ', 'The wrist was badly strained and hung limp. ', 'The willowy woman wore a muskrat coat.   ', 'The way to speak and write what shall not go out of fashion is to speak and write sincerely. ', 'The water contained too much chlorine and stung his eyes.   ', 'The village of Longbourn was only one mile from Meryton; a most convenient distance for the young ladies who were usually tempted thither three or four times a week to pay their duty to their aunt and to a milliner’s shop just over the way.  ', 'The viewpoint overlooked the ocean.  ', 'The two youngest of the family Catherine and Lydia were particularly frequent in these attentions: their minds were more vacant than their sisters’ and when nothing better offered ', 'The two artists exchanged autographs.  ', 'The triumphant warrior exhibited naive heroism.   ', 'The tree top waved in a graceful way. ', \"The tooth fairy forgot to come when Roger's tooth fell out.  \", 'The toddler found a clamshell near the camp site.  ', 'The Thinker is a famous sculpture.   ', 'The thick elm forest was nearly overwhelmed by Dutch Elm Disease.  ', 'The taxicab broke down and caused a traffic jam.  ', 'The system may break down soon so save your files frequently.  ', 'The surplus shoes were sold at a discount price.  ', 'The sturdiest offender of your peace and of the neighborhood if you rip up his claims is as thin and timid as any; and the peace of society is often kept because as children one is afraid and the other dares not. ', 'The strongest adversary if their vigilance lapses for a moment is overcome. ', 'The stability of modern governments compared to ancient ones and the precision of modern philosophy have progressed and will likely continue to progress through similar stages of development. ', 'The spot on the blotter was made by green ink. ', 'The speech symposium might begin on Monday. ', 'The source of the huge river is the clear spring. ', \"The sound of Jennifer's bugle scared the antelope.   \", 'The small boy put the worm on the hook.  ', \"The singer's finger had a splinter.   \", 'The show was a flop from the very start. ', 'The sermon emphasized the need for affirmative action.  ', 'The second group of philosophers perceives humans primarily as rational beings rather than beings of action prioritizing the development of understanding over the cultivation of manners. ', 'The saw is broken so chop the wood instead.  ', 'The rose corsage smelled sweet.  ', 'The rich should invest in black zircons instead of stylish shoes.  ', \"The reader ought to be reminded that Joanna D'Arc was subject to an unusually unfair trial. \", 'The Rat looked around and saw they were in a sort of fore-court. ', 'The purely theoretical philosopher is generally not well-received in society perceived as contributing little to its benefit or enjoyment. ', 'The prowler wore a ski mask for disguise.   ', 'The proof that you are seeking is not available in books.  ', 'The previous speaker presented ambiguous results.   ', \"The preschooler couldn't verbalize her feelings about the emergency conditions.  \", 'The politician will gain greater foresight and subtlety in managing and balancing power the lawyer more methodical and refined principles in their arguments and the general more order in their discipline and more prudence in their plans and actions. ', 'The pearl was worn in a thin silver ring. ', 'The patient and the surgeon are both recuperating from the lengthy operation.  ', 'The paper boy bought two apples and three ices.  ', \"The overweight charmer could slip poison into anyone's tea.  \", 'The office paint was a dull sad tan. ', 'The oasis was a mirage.  ', 'The night proved unusually dark so that the two principals had to tie white handkerchiefs round their elbows in order to descry each other. ', 'The news agency hired a great journalist.  ', 'The new suburbanites worked hard on refurbishing their older home.  ', 'The nearest synagogue may not be within walking distance.  ', 'The museum hires musicians every evening.   ', 'The most recent geological survey found seismic activity.  ', 'The most pleasant and inoffensive path in life leads through the realms of science and learning. ', 'The morning dew on the spider web glistened in the sun.  ', 'The moisture in my eyes is from eyedrops not from tears.  ', 'The misquote was retracted with an apology.   ', 'The misprint provoked an immediate disclaimer.   ', 'The meeting is now adjourned.  ', 'The Mayan neoclassic scholar disappeared while surveying ancient ruins.   ', 'The mango and the papaya are in a bowl.   ', 'The magic they used was the ideal tendencies which always make the Actual ridiculous; but the tough world had its revenge the moment they put their horses of the sun to plow in its furrow. ', 'The local drugstore was charged with illegally dispensing tranquilizers.  ', 'The legislature met to judge the state of public education.   ', 'The lawyer tried to lose his case. ', \"The lack of heat compounded the tenant's grievances.   \", 'The just claim got the right verdict. ', 'The juice of lemons makes fine punch. ', 'The jaw operates by using antagonistic muscles.  ', 'The jacket hung on the back of the wide chair. ', 'The irate actor stomped away idiotically.  ', 'The impression I had was that we were leaving the West and entering the East; the most western of splendid bridges over the Danube ', 'The ideal character is seen as a balance between these extremes possessing equal aptitude and enjoyment for books social interaction and practical affairs. ', 'The horn of the car woke the sleeping cop. ', 'The hood of the jeep was steaming in the hot sun.  ', 'The hogs were fed chopped corn and garbage. ', 'The high security prison was surrounded by barbed wire.  ', 'The heart beat strongly and with firm strokes. ', 'The haunted house was a hit due to outstanding audiovisual effects.   ', 'The hat brim was wide and too droopy. ', 'The hallway opens into a huge chamber.  ', 'The gunman kept his victim cornered at gunpoint for three hours.  ', 'The groundhog clearly saw his shadow but stayed out only a moment.  ', 'The grass curled around the fence post. ', 'The government sought authorization of his citizenship.   ', 'The gorgeous butterfly ate a lot of nectar.  ', 'The giant redwoods shimmered in the glistening sun. ', 'The gain is apparent; the tax is certain. ', 'The full moon shone brightly that night.  ', 'The fruit peel was cut in thick slices. ', 'The frosty air passed through the coat. ', 'The frightened child was gently subdued by his big brother.  ', 'The football team coach has a watch as thin as a dime. ', 'The fog prevented them from arriving on time.  ', 'The fish began to leap frantically on the surface of the small lake.  ', 'The first approach primarily views humans as beings driven by action influenced by taste and sentiment in their decisions. ', 'The fifth jar contains big juicy peaches.  ', \"The fame of Cicero thrives today while Aristotle's has faded. \", 'The essay undeniably reflects our view ably.  ', 'The emperor had a mean temper.   ', 'The emblem depicts the Acropolis all aglow.   ', 'The easy going zoologist relaxed throughout the voyage.   ', 'The eastern coast is a place for pure pleasure and excitement.   ', 'The drunkard is a social outcast.   ', 'The diagnosis was discouraging; however he was not overly worried.   ', 'The deep eyes of a light hazel were as full of sorrow as of inspiration. ', 'The dark murky lagoon wound around for miles.  ', 'The crooked maze failed to fool the mouse. ', 'The cranberry bog gets very pretty in Autumn.  ', 'The coyote bobcat and hyena are wild animals.   ', 'The cow wandered from the farmland and became lost.  ', 'The courier was a dwarf.  ', 'The clumsy customer spilled some expensive perfume.   ', 'The cigarettes in the clay ashtray overflowed onto the oak table.  ', 'The cigar burned a hole in the desk top. ', 'The causeway ended abruptly at the shore.   ', \"The cat's meow always hurts my ears.   \", 'The cartoon features a muskrat and a tadpole.   ', 'The carpet cleaners shampooed our oriental rug.  ', 'The bungalow was pleasantly situated near the shore.   ', 'The boy wasthere when the sun rose. ', 'The box was thrown beside the parked truck. ', 'The Boston Ballet overcame their funding shortage.  ', 'The bluejay flew over the high building.  ', 'The birch canoe slid on the smooth planks. ', 'The big dog loved to chew on the old rag doll.  ', 'The best way to learn is to solve extra problems.   ', \"The barracuda recoiled from the serpent's poisonous fangs.  \", 'The avalanche triggered a minor earthquake.  ', \"The annoying raccoons slipped into Phil's garden every night.  \", \"The angry boy answered but didn't look up.  \", 'The anatomist reveals the most unsightly and unpleasant sights but their knowledge benefits the painter even when portraying a Venus or a Helen. ', 'The altruistic dowager helped many malnourished vagrants.   ', 'The advertising verse of Plymouth Variety Store never changes.  ', 'That which we do not believe we cannot adequately say though we may repeat the words never so often. ', 'That stinging vapour was caused by chloride vaporization. ', 'That pickpocket was caught red-handed.   ', 'That noise problem grows more annoying each day.  ', 'That mood into which a friend brings us is his dominion over us. ', 'That dog chases cats mercilessly.  ', 'That diagram makes sense only after much study. ', 'Technical writers can abbreviate in bibliographies.   ', 'Take the winding path to reach the lake. ', 'Take the place and attitude which belong to you. ', \"Take charge of choosing her bride's maids' gowns.  \", 'Swing your arm as high as you can.   ', 'Suddenly the door was burst open and in rushed my patient with his face distorted with passion. I was thunderstruck for such a thing as a patient getting of his own accord into the Superintendent’s study is almost unknown. ', 'Suburban housewives often suffer from the gab habit.  ', 'Strike says the smith \"the iron is white;\" \"keep the rake\" says the haymaker \"as nigh the scythe as you can and the cart as nigh the rake.\" ', 'Straw hats are out of fashion this year.   ', \"Stimulating discussions keep students' attention.   \", 'Steve wore a bright red cashmere sweater.  ', 'Steve collects rare and novel coins.  ', 'Steph could barely handle the psychological trauma.  ', 'Stand aside; give those merits room; let them mount and expand. ', 'Spring Street is straight ahead.   ', 'Spherical gifts are difficult to wrap.  ', 'Special task forces rescue hostages from kidnappers.   ', 'Speak your latent conviction and it shall be the universal sense; for the inmost in due time becomes the outmost. ', 'Socrates took away all ignominy from the place which could not be a prison whilst he was there. ', \"So let's explore what can be reasonably argued in favor of metaphysics. \", 'So does culture with us; it ends in headache. ', 'Smash lightbulbs and their cash value will diminish to nothing.  ', 'Since virtue is universally acknowledged as the most valuable pursuit philosophers of this school portray it in the most appealing light. ', 'Should giraffes be kept in small zoos?  ', 'Shipbuilding is a most fascinating process.  ', 'Shell shock caused by shrapnel is sometimes cured through group therapy.  ', 'She wore warm fleecy woollen overalls.   ', 'She uses both names interchangeably.  ', 'She slipped and sprained her ankle on the steep slope.   ', 'She is thinner than I am.   ', 'She is the only church that has been loyal to the heart and soul of man that has clung to her faith in the imagination. ', 'She has never lost sight of the truth that the product human nature is composed of the sum of flesh and spirit. ', 'She had a sister married to a Mr. Philips who had been a clerk to their father and succeeded him in the business and a brother settled in London in a respectable line of trade.  ', 'She encouraged her children to make their own Halloween costumes.   ', 'She always jokes about too much garlic in his food.  ', 'Shaving cream is a popular item on Halloween.  ', \"Severe myopia contributed to Ron's inferiority complex.   \", 'Serve the coleslaw after I add the oil.   ', 'Seamstresses attach zips with a thimble needle and thread.  ', 'Scientific progress comes from the development of new techniques.   ', 'Scholastic aptitude is judged by standardized tests.   ', 'Roy ignored the spurious data points in drawing the graph.  ', 'Rock-and-roll music has a great rhythm.  ', 'Rob sat by the pond and sketched the stray geese.  ', 'Rob made Hungarian goulash for dinner and gooseberry pie for desert.  ', 'Right now may not be the best time for business mergers.  ', 'Rich purchased several signed lithographs.  ', 'Rich looked for spotted hyenas and jaguars on the safari.   ', 'Rice is often served in round bowls. ', 'Remove the splinter with a pair of tweezers.   ', 'Remember to allow identical twins to enter freely.  ', 'Regular attendance is seldom required.   ', 'Reading in poor light gives you eyestrain.  ', 'Rationalize all errors.  ', 'Ralph prepared red snapper with fresh lemon sauce for dinner.  ', 'Ralph controlled the stopwatch from the bleachers.   ', 'Put the butcher block table in the garage.  ', 'Puree some fruit before preparing the skewers.  ', 'Pure bred poodles have curls. ', 'Publicity and notoriety go hand in hand.   ', 'Project development was proceeding too slowly.   ', 'Primitive tribes have an upbeat attitude.   ', 'Porcupines resemble sea urchins.   ', \"Pledge to participate in Nevada's aquatic competition.   \", 'Please take this dirty table cloth to the cleaners for me.  ', 'Please sing just the club theme.  ', 'Please shorten this skirt for Joyce.  ', 'Please dig my potatoes up before the frost. ', 'Planned parenthood organizations promote birth control.  ', 'Place yourself in the middle of the stream of power and wisdom which animates all whom it floats and you are without effort impelled to truth. ', 'Pizzerias are convenient for a quick lunch.   ', 'Perhaps Addison will still be read with pleasure when Locke is forgotten. ', 'People drink much water with horseradish relish.  ', 'Penguins live near the icy Antarctic.   ', 'Pam gives driving lessons on Thursdays.  ', 'Our eyes are holden that we cannot see things that stare us in the face until the hour arrives when the mind is ripened. ', \"Our experiment's positive outcome was unexpected.   \", 'Other men are lenses through which we read our own minds. ', 'Orange juice tastes funny after toothpaste.   ', 'Only the most accomplished artists obtain popularity.    ', 'Only the best players enjoy popularity.  ', 'Only lawyers love millionaires.   ', 'One of the maidens presented a silver cup containing a rich mixture of wine and spice which Rowena tasted. ', 'One mistake inevitably leads to another as they pursue their conclusions undeterred by unconventional outcomes or contradictions to popular beliefs. ', 'Once you finish greasing your chain be sure to wash thoroughly.  ', 'On the most profitable lie the course of events presently lays a destructive tax; whilst frankness invites frankness puts the parties on a convenient footing and makes their business a friendship. ', 'on a night like this when you could have been at River Bank by now warming yourself by a roaring fire surrounded by all your own lovely things!\" ', \"Often you'll get back more than you put in.  \", 'Of course you can have another tunafish sandwich.  ', 'Obscurity is indeed distressing to the mind just as it is to the eye. ', 'Objects made of pewter are beautiful.   ', 'O Ratty! he cried miserably \"Why did I ever do it? Why did I bring you to this poor cold little place  ', 'Now had she really testified this willingness on the scaffold it would have argued nothing at all but the weakness of a genial nature. ', 'Nothing is as offensive as innocence.   ', 'Note closely the size of the gas tank. ', \"Norwegian sweaters are made of lamb's wool.   \", 'Non-profit organizations have frequent fundraisers. ', 'No man is reason or illumination or that essence we were looking for. ', 'No book said Bentley \"was ever written down by any but itself.\" ', 'Next came a wretched Dominican that pressed her with an objection which if applied to the Bible would tax every miracle with unsoundness. ', 'Nature waited tranquilly for the hour to be struck when man should arrive. ', 'Nature encourages us to indulge our passion for knowledge but to keep it focused on human affairs and relevant to action and society. ', 'My wrist bled freely and quite a little pool trickled on to the carpet.  ', 'My instructions desperately need updating.   ', 'My ideal morning begins with hot coffee.  ', 'My desires are simple: give me one informative paragraph on the subject.  ', 'Mum strongly dislikes appetizers.   ', 'Mud was spattered on the front of his white shirt. ', 'Mr. Philips visited them all and this opened to his nieces a source of felicity unknown before. ', 'Movies never have enough villains.  ', 'Move the garbage nearer to the large window.  ', 'Most young rabbits rise early every morning.   ', 'Most precincts had a third of the votes counted.   ', 'Mosquitoes exist in warm humid climates.   ', 'More than one military plan was entered upon which she did not approve. ', 'Moral philosophy also known as the science of human nature can be approached in two distinct ways each possessing its own unique value and contributing to the entertainment education and betterment of humanity. ', \"Mole's face lit up at the sight of these cherished objects. \", 'Mole retrieved a lantern from a nail on the wall and lit it. ', \"Mole being a tidy animal at home couldn't stand having his ground turned into little runs and earth-heaps by other animals. \", 'Military personnel are expected to obey government orders.   ', 'Michael colored the bedroom wall with crayons.  ', 'Mend the coat before you go out. ', 'Men strive but seldom get rich. ', 'Medieval society was based on hierarchies.   ', 'May I order a parfait after I eat dinner? ', \"Masquerade parties tax one's imagination.   \", 'Many wealthy tycoons splurged and bought both a yacht and a schooner.  ', 'Man does not stand in awe of man nor is his genius admonished to stay at home but it goes abroad to beg a cup of water of the urns of other men. ', 'Love and thou shalt be loved. ', 'Lots of foreign movies have subtitles.   ', \"Lori's costume needed black gloves to be completely elegant.  \", 'Life is a train of moods like a string of beads and as we pass through them they prove to be many-colored lenses which paint the world their own hue and each shows only what lies at its focus. ', 'Left Munich at 8:35 P. M. on 1st May arriving at Vienna early next morning; should have arrived at 6:46 but train was an hour late.', 'Laugh dance and sing if fortune smiles upon you.  ', \"Last year's gas shortage caused steep price increases.   \", \"La Bruyere's work transcends borders and maintains its reputation but Malebranche's glory is limited to his own country and time. \", 'Kindergarten children decorate their classrooms for all holidays.   ', 'Kick the ball straight and follow through. ', 'Keep the thermometer under your tongue!  ', 'Just drop notices in any suggestion box.  ', \"John's brother repainted the garage door.  \", 'John cleans shellfish for a living.  ', \"Jeff's toy go-cart never worked!  \", 'Jeff thought you argued in favour of a centrifuge purchase. ', 'Jane may earn more money by working hard.   ', \"It's one addition to the few safe and harmless pleasures granted to humanity. \", \"It's not truly a science but arises either from the futile attempts of human vanity to delve into subjects entirely beyond the grasp of understanding or from the cunning of popular superstitions. \", \"It's not easy to create illuminating examples.  \", \"It's impossible to deal with bureaucracy.   \", \"It's illegal to postdate a cheque.   \", \"It's healthier to cook without sugar.  \", \"It's hard to tell an original from a forgery.   \", \"It's futile to elevate one by belittling the other. \", \"It's easy to tell the depth of a well. \", \"It's easy for a deep philosopher to make errors in their intricate arguments. \", 'It was haunted to that degree by fairies that the parish priest was obliged to read mass there once a year. ', 'It must be admitted that the most lasting and well-deserved fame has been achieved by the accessible easy philosophy. ', 'It makes no difference how many friends I have and what content I can find in conversing with each if there be one to whom I am not equal. ', 'It inspires different feelings of praise or blame admiration or ridicule based on the qualities of the subject presented. ', 'it had struck me that some foreknowledge of the country could hardly fail to have some importance in dealing with a nobleman of that country. ', 'It discourages abstract thought and deep research warning of the melancholy they bring the endless uncertainty they create and the cold reception their supposed discoveries will receive when shared. ', 'Is this seesaw safe?   ', 'Is she going with you?  ', 'Irish youngsters eat fresh kippers for breakfast.  ', 'Iris thinks this zoo has eleven Spanish zebras.  ', 'In your metaphysics you have denied personality to the Deity yet when the devout motions of the soul come yield to them heart and life. ', 'In this manner from a happy yet often pensive child he grew up to be a mild quiet unobtrusive boy and sun-browned with labor in the fields but with more intelligence than is seen in many lads from the schools. ', 'In the population of Transylvania there are four distinct nationalities: Saxons in the South and mixed with them the Wallachs ', 'In the moment when he ceases to help us as a cause he begins to help us more as an effect. ', 'In the middle was a small round pond with goldfish surrounded by a cockle-shell border. ', 'In the long run it pays to buy quality clothing.  ', 'In one of those celestial days when heaven and earth meet and adorn each other it seems a pity that we can only spend it once. ', 'In every troop of boys that whoop and run in each yard and square a new-comer is as well and accurately weighed in the course of a few days and stamped with his right number as if he had undergone a formal trial of his strength speed and temper. ', 'In every major cloverleaf traffic sometimes gets backed up.  ', 'In every instance accuracy enhances beauty and sound reasoning refines delicate sentiment. ', 'In developing film many toxic chemicals are used. ', \"In contrast a philosopher aiming to express common sense in a more appealing and engaging way if they happen to err doesn't venture further down that path. \", 'In an era and society where knowledge thrives lacking any appreciation for intellectual pursuits is considered a clear sign of an unrefined mind. ', 'Iguanas and alligators are tropical reptiles.   ', 'If people were more generous there would be no need for welfare.  ', 'If most people preferred easy philosophy to the abstract and profound without criticizing the latter it might be acceptable to comply with this preference and let individuals enjoy their own tastes without opposition. ', 'If I feel overshadowed and outdone by great neighbors I can yet love; I can still receive; and he that loveth maketh his own the grandeur that he loves. ', 'If Carol comes tomorrow have her arrange for a meeting at two.  ', \"I'll have a scoop of that exotic purple and turquoise sherbet.  \", \"I'd ride the subway but I haven't enough change.  \", \"I'd rather not buy these shoes than be overcharged.  \", 'I was not able to light on any map or work giving the exact locality of the Castle Dracula as there are no maps of this country as yet to compare with our own Ordnance Survey maps;  ', 'I was engaged after dinner in my study posting up my books which through press of other work and the many visits to Lucy had fallen sadly into arrear. ', 'I walked home with Calhoun who said that the principles which I had avowed were just and noble. ', 'I took her word for it.  ', 'I thought that it was a Sunday morning in May; that it was Easter Sunday and as yet very early in the morning. ', 'I sometimes seemed to have lived for seventy or one hundred years in one night; nay Iometimes had feelings representative of a millennium passed in that time or however of a duration far beyond the limits of experience. ', 'I shall enter here some of my notes as they may refresh my memory when I talk over my travels with Mina. ', 'I saw that my friend was not intent on further effort and occupied myself binding up my wrist keeping a wary eye on the prostrate figure all the time.  ', 'I read that every known superstition in the world is gathered into the horseshoe of the Carpathians  ', 'I no longer wish to meet a good I do not earn for example to find a pot of buried gold. ', 'I like that representation they have of the tree. ', \"I know I didn't meet her early enough.  \", 'I just saw Jim near the new archeological museum.  ', 'I itemize all accounts in my agency.  ', 'I honour my mum.  ', 'I had visited the British Museum and made search among the books and maps in the library regarding Transylvania;  ', 'I had for dinner or rather supper a chicken done up some way with red pepper which was very good but thirsty.  ', 'I gave them several choices and let them set the priorities.  ', 'I found my smattering of German very useful here; indeed I don’t know how I should be able to get on without it. ', 'I feared to go very far from the station as we had arrived late and would start as near the correct time as possible.  ', \"I ate every oyster on Nora's plate.  \", \"I assume moisture will damage this ship's hull.  \", 'I asked the waiter and he said it was called “paprika hendl” and that as it was a national dish I should be able to get it anywhere along the Carpathians.  ', 'I am going among the latter who claim to be descended from Attila and the Huns.  ', 'Humans are rational beings and science provides them with their proper sustenance. ', \"Humans are also social beings but they can't always enjoy pleasant company or maintain their appreciation for it. \", \"Humans are also active beings and due to their nature and life's necessities they must engage in work and responsibilities. \", 'However the obscurity in profound and abstract philosophy is criticized not only for being challenging but also as the unavoidable source of uncertainty and error. ', 'However the matter often goes further leading to the outright rejection of all deep reasoning or what is commonly called metaphysics. ', 'However some may think him wanting in zeal the most fanatical can find no taint of apostasy in any measure of his. ', 'However human understanding is limited so little satisfaction can be expected from the extent or certainty of knowledge gained. ', \"However challenging this introspection might seem it's somewhat necessary for those who wish to successfully depict the obvious and external aspects of life and behavior. \", 'How would you evaluate this algebraic expression?   ', 'How permanent are their records?  ', 'How oily do you like your salad dressing?  ', 'How much allowance do you get?   ', 'How good is your endurance?  ', 'How do oysters make pearls?   ', 'How ancient is this subway escalator?  ', 'Hoist the load to your left shoulder. ', 'Hispanic costumes are quite colourful.   ', 'His sudden departure shocked the cast.   ', 'His shoulder felt as if it were broken.  ', \"His scalp was blistered from today's hot sun.   \", 'His failure to open the store by eight cost him his job.  ', 'Highway and freeway mean the same thing.  ', 'Here lies the most valid and reasonable objection against a significant portion of metaphysics: ', 'Here lay two great roads not so much for travelers that were few as for armies that were too many by half. ', 'Here I stopped for the night at the Hotel Royale.  ', \"Herb's birthday frequently occurs on Thanksgiving.  \", 'Her wardrobe consists of only skirts and blouses.  ', 'Her right hand aches whenever the barometric pressure changes.  ', 'Her father had been an attorney in Meryton and had left her four thousand pounds. ', 'Her classical repertoire gained critical acclaim.   ', 'Her auburn hair reminded him of autumn leaves.   ', 'Help Greg to pick a peck of potatoes.   ', \"Help celebrate your brother's success. \", 'He will allow a rare lie.   ', 'He was what our country people call an old one. ', 'He was too quick and too strong for me however; for before I could get my balance he had struck at me and cut my left wrist rather severely.  ', 'He was lying on his belly on the floor licking up like a dog the blood which had fallen from my wounded wrist.  ', 'He was easily secured and to my surprise went with the attendants quite placidly simply repeating over and over again: “The blood is the life! The blood is the life!” ', 'He thought not any evil happened to men of such magnitude as false opinion. ', 'He teaches who gives and he learns who receives. ', 'He stole a dime from a beggar.   ', 'He slumped onto a hall-chair his nose buried in his paws. ', 'He showed one who was afraid to go on foot to Olympia that it was no more than his daily walk if continuously extended would easily reach. ', 'He rushed Rat through the door lit a lamp in the hall and took a quick look around his old home. ', 'He picked up nine pairs of socks for each brother.  ', 'He noticed the thick dust on everything the gloomy and forsaken appearance of the long-neglected house its small and cramped size and its worn and shabby furnishings. ', 'He lay prone and hardly moved a limb. ', 'He knew the skill of the great young actress. ', 'He had a dinner-knife in his hand and as I saw he was dangerous I tried to keep the table between us.  ', 'He ate four extra eggs for breakfast.   ', 'Having had some time at my disposal when in London  ', 'Had they been better chemists had we been worse the mixed result namely that dying for them the flower should revive for us could not have been effected. ', 'Gwen grows green beans in her vegetable garden.  ', 'Gus saw pine trees and redwoods on his walk through Sequoia National Forest.  ', 'Guess the results from the first scores. ', 'Guess the question from the answer.   ', 'Growing well-kept gardens is very time consuming.  ', 'Gremlins is yet another exciting movie by Steven Spielberg.  ', 'Gregory and Tom chose to watch cartoons in the afternoon.  ', 'Grandmother outgrew her upbringing in petticoats.   ', 'Good service should be rewarded by big tips.   ', 'Glue the sheet to the dark blue background. ', 'Glucose and fructose are natural sugars found in fruit.   ', 'Get a calico cat to keep the rodents away.   ', 'George seldom watches daytime movies.  ', 'George is paranoid about a future gas shortage.  ', \"Gently place Jim's foam sculpture in the box.   \", 'Furthermore we can observe in every art or profession even those most connected to life or action that a pursuit of accuracy however attained brings them closer to perfection and makes them more valuable to society. ', 'From the moment you lose sight of the land you have left all is vacancy. ', 'From the center of the pond rose an elaborate structure covered in more cockle-shells and topped by a large silvered glass ball that distorted reflections in a pleasing way. ', 'Four hours of steady work faced us. ', 'For everything you have missed you have gained something else; and for everything you gain you lose something. ', 'Flying standby can be practical if you want to save money.   ', 'First add milk to the shredded cheese.  ', 'Fill that canteen with fresh spring water.   ', 'Few people live to be a hundred.   ', 'Every day added something to their knowledge of the officers’ names and connections. ', 'Every cab needs repainting often.  ', 'Even though a philosopher may live apart from practical matters the spirit of philosophy if diligently cultivated by many will gradually spread throughout society bringing a similar level of correctness to every art and vocation. ', \"Even if there were no benefit to be gained from these studies beyond satisfying innocent curiosity this shouldn't be dismissed. \", 'Even I occasionally get the Monday blues!   ', 'Even a simple vocabulary contains symbols.   ', 'Etiquette mandates compliance with existing regulations.   ', 'Endowed with robust and vibrant health they require strenuous activity and find enjoyment in what most people might consider burdensome and laborious. ', 'Encyclopedias seldom present anecdotal evidence.   ', \"Employee layoffs coincided with the company's reorganization.   \", 'Elderly people are often excluded.   ', 'Eating spinach nightly increases strength miraculously. ', 'Eat your raisins outdoors on the porch steps.   ', 'Each untimely income loss coincided with the breakdown of a heating system part.  ', 'Each stag surely finds a big fawn.  ', 'Ducks have webbed feet and colorful feathers.  ', 'Drop the two when you add the figures. ', 'Drop five forms in the box before you go out.  ', 'Driven from the open field these deceivers retreat into the forest lying in wait to ambush every unguarded avenue of the mind and overwhelm it with religious fears and prejudices. ', 'Draw every outer line first then fill in the interior.  ', 'Draw each graph on a new axis.   ', \"Don't look for cheap valuables in a bank vault.  \", \"Don't do Charlie's dirty dies.   \", 'Dolphins are intelligent marine mammals.  ', 'Does Hindu ideology honour cows?  ', 'Does creole cooking use curry?  ', 'Doctors prescribe drugs too freely.   ', 'Do you hear the sleigh bells ringing?   ', 'Do you have the yellow ointment ready?  ', 'Do they allow atheists in church?  ', 'Do not craze yourself with thinking but go about your business anywhere. ', 'Do atypical farmers grow oats?  ', 'Did you eat lunch yesterday?   ', 'Did you buy any corduroy overalls?   ', 'Did Shawn catch that big goose without help?  ', 'Did dad do academic bidding?   ', 'Diane may splurge and buy a turquoise necklace.  ', 'Destroy every file related to my audits.   ', 'December and January are nice months to spend in Miami.   ', \"Daphne's Swedish needlepoint scarf matched her skirt.  \", 'Cyclical programs will never compile.   ', 'Cut the pie into large parts. ', 'Cut a small corner off each edge.   ', 'Curiosity and mediocrity seldom co-exist.   ', 'Critical equipment needs proper maintenance.   ', 'Count the number of teaspoons of soysauce that you add.  ', 'Cottage cheese with chives is delicious.  ', 'Cory attacked the project with extra determination.  ', 'Cory and Trish played tag with beach balls for hours.  ', 'Correct execution of my instructions is crucial.   ', 'Cooperation along with understanding alleviate dispute.   ', 'Conversely the completely ignorant person is even more disdained. ', 'Continental drift is a geological theory.   ', 'Come into port greatly or sail with God the seas. ', 'Combine all the ingredients in a large bowl.   ', 'Coffee is grown on steep jungle-like slopes in temperate zones.  ', 'Coconut cream pie makes a nice dessert.   ', \"Cliff's display was misplaced on the screen.   \", 'Cliff was soothed by the luxurious massage.  ', 'Clear pronunciation is appreciated.  ', 'Clasp the screw in your left hand.   ', 'Chocolate and roses never fail as a romantic gift.   ', 'Chip postponed alimony payments until the latest possible date.  ', 'Children can consume many fruit roll-ups in one sitting. ', \"Cheap stockings run the first time they're worn.  \", \"Challenge each general's intelligence.   \", 'Cement is measured in cubic yards.   ', 'Catastrophic economic cutbacks neglect the poor.   ', 'Carl lives in a lively home.   ', 'Can the agency overthrow alien forces?  ', 'Call an ambulance for medical assistance.   ', 'Calcium makes bones and teeth strong ', 'By eating yogurt you may live longer.  ', 'Buying a thoroughbred horse requires intuition and expertise.   ', 'Butterscotch fudge goes well with vanilla ice cream.  ', 'But to bring light from obscurity regardless of the effort must undoubtedly be delightful and gratifying. ', \"But the mind needs rest and can't always sustain its focus on duties and industry. \", 'But now that she has become an establishment she begins to perceive that she made a blunder in trusting herself to the intellect alone. ', 'but I found that Bistritz the post town named by Count Dracula is a fairly well-known place.  ', 'Buda-Pesth seems a wonderful place from the glimpse which I got of it from the train and the little I could walk through the streets.  ', 'Brush fires are common in the dry underbrush of Nevada.  ', 'Bright sunshine shimmers on the ocean.   ', 'Bob papered over the living room murals.  ', \"Bob found more clams at the ocean's edge.  \", 'Bob bandaged both wounds with the skill of a doctor.  ', 'Birthday parties have cupcakes and ice cream.   ', 'Biologists use radioactive isotopes to study microorganisms.  ', 'Biblical scholars argue history.   ', 'BENNET’S property consisted almost entirely in an estate of two thousand a year which unfortunately for his daughters was entailed in default of heirs male on a distant relation.  ', 'Beg that guard for one gallon of petrol.   ', \"Before Thursday's exam review every formula.   \", 'Before long his talk would wander into all the universe where it was uncertain what game you would catch or whether any. ', 'Before he could strike again however I got in my right and he was sprawling on his back on the floor.  ', 'Be careful not to plow over the flower beds.  ', 'Be a philosopher but amidst all your philosophy remain human. ', 'Basketball can be an entertaining sport.   ', \"Barb's gold bracelet was a graduation present.   \", 'Barb burned paper and leaves in a big bonfire.  ', 'Bagpipes and bongos are musical instruments.   ', \"At twilight on the twelfth day we'll have Chablis.   \", 'At that high level the air is pure. ', 'At present indeed they were well supplied both with news and happiness by the recent arrival of a militia regiment in the neighbourhood; ', 'As surely as the wolf retires before cities does the fairy sequester herself from the haunts of the licensed victualer. ', 'As co-authors we presented our new book to the haughty audience.   ', 'As a precaution the outlaws bought gunpowder for their stronghold.   ', 'Artificial intelligence is for real.   ', \"Are your grades higher or lower than Nancy's?   \", 'Are you looking for employment?  ', 'Are holiday aprons available to us?  ', 'Approach your interview with statuesque composure.   ', 'Anyone who can remove obstacles or open up new vistas in this path should be considered a benefactor to humankind. ', 'Any contributions will be greatly appreciated.   ', 'Angora cats are furrier than Siamese.   ', 'And those will often pity that weakness most who would yield to it least. ', 'And their mother’s fortune though ample for her situation in life could but ill supply the deficiency of his. ', 'And many out of fear and foolishness open the gates to these enemies willingly accepting them with reverence and submission as their rightful rulers. ', 'An official deadline cannot be postponed.   ', \"An artist is better equipped to succeed in this endeavor if in addition to refined taste and quick understanding they possess a precise knowledge of the mind's inner workings: the operations of the understanding the influence of passions and the various types of feelings that distinguish vice from virtue. \", \"An adult male baboon's teeth are not suitable for eating shellfish.  \", 'An abrupt start does not win the prize. ', 'Amoebas change shape constantly.  ', 'Ambidextrous pickpockets accomplish more.   ', 'Always close the barn door tight. ', 'Aluminium cutlery can often be flimsy.   ', 'Although their speculations might appear abstract and even incomprehensible to the average reader they seek the approval of the learned and the wise. ', 'Although always alone we survive.   ', 'Almost all colleges are now co-educational.   ', 'Allow leeway here. ', 'Allow each child to have an ice pop.  ', 'All loss all pain is particular; the universe remains to the heart unhurt. ', 'All elegant literature consists of portrayals of human life in various postures and circumstances. ', \"Alimony harms a divorced man's wealth.   \", \"Alice's ability to work without supervision is noteworthy.  \", 'Alfalfa is healthy for you.   ', 'Al received a joint appointment in the biology and the engineering departments.  ', 'Agricultural products are unevenly distributed.   ', 'Addition and subtraction are learned skills.   ', 'Adding fast leads to wrong sums. ', 'According to my interpretation of the problem two lines must be perpendicular.  ', 'Academic aptitude guarantees your diploma.   ', \"Abstract reasoners on the other hand seem to have enjoyed only fleeting recognition influenced by the whims or lack of knowledge of their contemporaries and haven't been able to maintain their renown with more discerning future generations. \", 'A young mouse scampered across the field and disappeared.  ', 'a walk to Meryton was necessary to amuse their morning hours and furnish conversation for the evening; and however bare of news the country in general might be they always contrived to learn some from their aunt.  ', 'A toothpaste tube should be squeezed from the bottom.  ', 'A skittle-alley ran along one side of the forecourt equipped with benches and small wooden tables marked with rings that suggested beer-mugs. ', 'A shower of dirt fell from the hot pipes. ', 'A screwdriver is made from vodka and orange juice.   ', 'A salt pickle tastes fine with ham. ', 'A roll of wire lay near the wall.   ', 'A rag will soak up spilled water. ', 'A muscular abdomen is good for your back.   ', \"A moth zig-zagged along the path through Otto's garden.  \", 'A man cannot speak but he judges himself. ', 'A lone star shone in the early evening sky.  ', 'A leather handbag would be a suitable gift.  ', 'A lawyer was appointed to execute her will.  ', 'A large size in stockings is hard to sell. ', 'A large household needs lots of appliances.   ', 'A huge tapestry hung in her hallway.   ', 'A huge power outage rarely occurs.  ', 'A good attitude is unbeatable.   ', 'A garden-seat was on one side of the door and a roller on the other. ', 'A filing case is now hard to buy. ', 'A doctor was in the ambulance with the patient.  ', 'A crab challenged me but a quick stab vanquished him.  ', 'A connoisseur will enjoy this shellfish dish.  ', 'A chosen few will become Generals.  ', 'A boring novel is a superb sleeping pill.  ', 'A big goat idly ambled through the farmyard.  ', ' which is here of noble width and depth took us among the traditions of Turkish rule. ', ' They used an aggressive policeman to flag thoughtless motorists.  ', ' M. Michelet is anxious to keep us in mind that this bishop was but an agent of the English. ', ' it was to remain the whole winter and Meryton was the head-quarters.  ', ' in the midst of the Carpathian mountains; one of the wildest and least known portions of Europe.  ', ' I find that the district he named is in the extreme east of the country just on the borders of three states Transylvania Moldavia and Bukovina ']\n"
     ]
    }
   ],
   "source": [
    "import csv\n",
    "\n",
    "\n",
    "def create_banks_from_csv(file_path, column_name):\n",
    "    banks = []\n",
    "    current_bank = []\n",
    "    \n",
    "    with open(file_path, mode='r', newline='') as file:\n",
    "        csv_reader = csv.DictReader(file)\n",
    "        \n",
    "        for row in csv_reader:\n",
    "            phrase = row[column_name]\n",
    "            current_bank.append(phrase)\n",
    "            \n",
    "            # Once we have 100 phrases, add the current bank to banks list\n",
    "            if len(current_bank) == 1000:\n",
    "                banks.append(current_bank)\n",
    "                current_bank = []  # Reset for the next bank\n",
    "\n",
    "        # If there are any remaining phrases, add them as the last bank\n",
    "        if current_bank:\n",
    "            banks.append(current_bank)\n",
    "    \n",
    "    # Print each bank as a separate assignment\n",
    "    for i, bank in enumerate(banks, start=1):\n",
    "        bank_var_name = f\"Bank{i}\"\n",
    "        print(f\"{bank_var_name} = {bank}\")\n",
    "\n",
    "\n",
    "# Usage\n",
    "file_path = 'data/data.csv'  # Replace with the path to your CSV file\n",
    "column_name = 'phrase'  # Replace with the name of the column containing the phrases\n",
    "banks = create_banks_from_csv(file_path, column_name)\n",
    " "
   ]
  },
  {
   "cell_type": "code",
   "execution_count": null,
   "metadata": {},
   "outputs": [],
   "source": []
  },
  {
   "cell_type": "code",
   "execution_count": 3,
   "metadata": {},
   "outputs": [
    {
     "name": "stdout",
     "output_type": "stream",
     "text": [
      "Available audio input devices:\n",
      "0: WH-1000XM4 - Max Input Channels: 1\n",
      "2: Rowan’s iPhone Microphone - Max Input Channels: 1\n",
      "3: MacBook Pro Microphone - Max Input Channels: 1\n"
     ]
    },
    {
     "name": "stdout",
     "output_type": "stream",
     "text": [
      "Available audio input devices (excluding HDMI):\n",
      "Press 'r' to start recording phrase 1 take 1\n",
      "Recording...\n",
      "Press space to start recording\n",
      "Warning: Reducing channels from 3 to 1.\n",
      "Recording...\n",
      "Press space to start recording\n",
      "Warning: Reducing channels from 3 to 1.\n",
      "Recording...\n",
      "Press space to start recording\n",
      "Warning: Reducing channels from 3 to 1.\n",
      "Recording complete.\n",
      "||PaMacCore (AUHAL)|| Error on line 2790: err='-50', msg=Unknown Error\n",
      "Recording stopped.\n",
      "Press 'r' to start recording phrase 1 take 2\n",
      "Recording...\n",
      "Press space to start recording\n",
      "Warning: Reducing channels from 3 to 1.\n",
      "Recording complete.\n",
      "||PaMacCore (AUHAL)|| Error on line 2790: err='-50', msg=Unknown Error\n",
      "Recording stopped.\n",
      "Press 'r' to start recording phrase 1 take 3\n"
     ]
    },
    {
     "ename": "KeyboardInterrupt",
     "evalue": "",
     "output_type": "error",
     "traceback": [
      "\u001b[0;31m---------------------------------------------------------------------------\u001b[0m",
      "\u001b[0;31mKeyboardInterrupt\u001b[0m                         Traceback (most recent call last)",
      "Cell \u001b[0;32mIn[3], line 8\u001b[0m\n\u001b[1;32m      6\u001b[0m \u001b[38;5;28mid\u001b[39m \u001b[38;5;241m=\u001b[39m \u001b[38;5;28minput\u001b[39m(\u001b[38;5;124m\"\u001b[39m\u001b[38;5;124mEnter the device id: \u001b[39m\u001b[38;5;124m\"\u001b[39m)\n\u001b[1;32m      7\u001b[0m dev \u001b[38;5;241m=\u001b[39m be\u001b[38;5;241m.\u001b[39mselect_input_device(\u001b[38;5;28mint\u001b[39m(\u001b[38;5;28mid\u001b[39m))\n\u001b[0;32m----> 8\u001b[0m \u001b[43mbe\u001b[49m\u001b[38;5;241;43m.\u001b[39;49m\u001b[43mrun\u001b[49m\u001b[43m(\u001b[49m\u001b[38;5;124;43m\"\u001b[39;49m\u001b[38;5;124;43mmoderate\u001b[39;49m\u001b[38;5;124;43m\"\u001b[39;49m\u001b[43m,\u001b[49m\u001b[43m \u001b[49m\u001b[38;5;124;43m\"\u001b[39;49m\u001b[38;5;124;43mataxic\u001b[39;49m\u001b[38;5;124;43m\"\u001b[39;49m\u001b[43m,\u001b[49m\u001b[43m \u001b[49m\u001b[38;5;124;43m\"\u001b[39;49m\u001b[38;5;124;43m cp\u001b[39;49m\u001b[38;5;124;43m\"\u001b[39;49m\u001b[43m,\u001b[49m\u001b[43m \u001b[49m\u001b[43mdev\u001b[49m\u001b[43m)\u001b[49m\n",
      "File \u001b[0;32m~/Documents/dev/dysscribe/src/backend.py:188\u001b[0m, in \u001b[0;36mrun\u001b[0;34m(severity, type_, condition, device)\u001b[0m\n\u001b[1;32m    185\u001b[0m status \u001b[38;5;241m=\u001b[39m \u001b[38;5;124m\"\u001b[39m\u001b[38;5;124mpress \u001b[39m\u001b[38;5;124m'\u001b[39m\u001b[38;5;124mr\u001b[39m\u001b[38;5;124m'\u001b[39m\u001b[38;5;124m to start recording\u001b[39m\u001b[38;5;124m\"\u001b[39m\n\u001b[1;32m    187\u001b[0m \u001b[38;5;28;01mwith\u001b[39;00m Listener(on_press\u001b[38;5;241m=\u001b[39m\u001b[38;5;28;01mlambda\u001b[39;00m key: on_press(key, filepath, device)) \u001b[38;5;28;01mas\u001b[39;00m listener:\n\u001b[0;32m--> 188\u001b[0m     \u001b[43mlistener\u001b[49m\u001b[38;5;241;43m.\u001b[39;49m\u001b[43mjoin\u001b[49m\u001b[43m(\u001b[49m\u001b[43m)\u001b[49m\n\u001b[1;32m    190\u001b[0m     status \u001b[38;5;241m=\u001b[39m \u001b[38;5;124m\"\u001b[39m\u001b[38;5;124mrecording\u001b[39m\u001b[38;5;124m\"\u001b[39m\n\u001b[1;32m    191\u001b[0m     status \u001b[38;5;241m=\u001b[39m \u001b[38;5;124m\"\u001b[39m\u001b[38;5;124mpress \u001b[39m\u001b[38;5;124m'\u001b[39m\u001b[38;5;124ms\u001b[39m\u001b[38;5;124m'\u001b[39m\u001b[38;5;124m to stop recording\u001b[39m\u001b[38;5;124m\"\u001b[39m\n",
      "File \u001b[0;32m~/Library/Python/3.9/lib/python/site-packages/pynput/_util/__init__.py:271\u001b[0m, in \u001b[0;36mAbstractListener.join\u001b[0;34m(self, timeout, *args)\u001b[0m\n\u001b[1;32m    269\u001b[0m \u001b[38;5;28;01mdef\u001b[39;00m \u001b[38;5;21mjoin\u001b[39m(\u001b[38;5;28mself\u001b[39m, timeout\u001b[38;5;241m=\u001b[39m\u001b[38;5;28;01mNone\u001b[39;00m, \u001b[38;5;241m*\u001b[39margs):\n\u001b[1;32m    270\u001b[0m     start \u001b[38;5;241m=\u001b[39m time\u001b[38;5;241m.\u001b[39mtime()\n\u001b[0;32m--> 271\u001b[0m     \u001b[38;5;28;43msuper\u001b[39;49m\u001b[43m(\u001b[49m\u001b[43mAbstractListener\u001b[49m\u001b[43m,\u001b[49m\u001b[43m \u001b[49m\u001b[38;5;28;43mself\u001b[39;49m\u001b[43m)\u001b[49m\u001b[38;5;241;43m.\u001b[39;49m\u001b[43mjoin\u001b[49m\u001b[43m(\u001b[49m\u001b[43mtimeout\u001b[49m\u001b[43m,\u001b[49m\u001b[43m \u001b[49m\u001b[38;5;241;43m*\u001b[39;49m\u001b[43margs\u001b[49m\u001b[43m)\u001b[49m\n\u001b[1;32m    272\u001b[0m     timeout \u001b[38;5;241m=\u001b[39m \u001b[38;5;28mmax\u001b[39m(\u001b[38;5;241m0.0\u001b[39m, timeout \u001b[38;5;241m-\u001b[39m (time\u001b[38;5;241m.\u001b[39mtime() \u001b[38;5;241m-\u001b[39m start)) \\\n\u001b[1;32m    273\u001b[0m         \u001b[38;5;28;01mif\u001b[39;00m timeout \u001b[38;5;129;01mis\u001b[39;00m \u001b[38;5;129;01mnot\u001b[39;00m \u001b[38;5;28;01mNone\u001b[39;00m \\\n\u001b[1;32m    274\u001b[0m         \u001b[38;5;28;01melse\u001b[39;00m \u001b[38;5;28;01mNone\u001b[39;00m\n\u001b[1;32m    276\u001b[0m     \u001b[38;5;66;03m# Reraise any exceptions; make sure not to block if a timeout was\u001b[39;00m\n\u001b[1;32m    277\u001b[0m     \u001b[38;5;66;03m# provided\u001b[39;00m\n",
      "File \u001b[0;32m/Applications/Xcode.app/Contents/Developer/Library/Frameworks/Python3.framework/Versions/3.9/lib/python3.9/threading.py:1053\u001b[0m, in \u001b[0;36mThread.join\u001b[0;34m(self, timeout)\u001b[0m\n\u001b[1;32m   1050\u001b[0m     \u001b[38;5;28;01mraise\u001b[39;00m \u001b[38;5;167;01mRuntimeError\u001b[39;00m(\u001b[38;5;124m\"\u001b[39m\u001b[38;5;124mcannot join current thread\u001b[39m\u001b[38;5;124m\"\u001b[39m)\n\u001b[1;32m   1052\u001b[0m \u001b[38;5;28;01mif\u001b[39;00m timeout \u001b[38;5;129;01mis\u001b[39;00m \u001b[38;5;28;01mNone\u001b[39;00m:\n\u001b[0;32m-> 1053\u001b[0m     \u001b[38;5;28;43mself\u001b[39;49m\u001b[38;5;241;43m.\u001b[39;49m\u001b[43m_wait_for_tstate_lock\u001b[49m\u001b[43m(\u001b[49m\u001b[43m)\u001b[49m\n\u001b[1;32m   1054\u001b[0m \u001b[38;5;28;01melse\u001b[39;00m:\n\u001b[1;32m   1055\u001b[0m     \u001b[38;5;66;03m# the behavior of a negative timeout isn't documented, but\u001b[39;00m\n\u001b[1;32m   1056\u001b[0m     \u001b[38;5;66;03m# historically .join(timeout=x) for x<0 has acted as if timeout=0\u001b[39;00m\n\u001b[1;32m   1057\u001b[0m     \u001b[38;5;28mself\u001b[39m\u001b[38;5;241m.\u001b[39m_wait_for_tstate_lock(timeout\u001b[38;5;241m=\u001b[39m\u001b[38;5;28mmax\u001b[39m(timeout, \u001b[38;5;241m0\u001b[39m))\n",
      "File \u001b[0;32m/Applications/Xcode.app/Contents/Developer/Library/Frameworks/Python3.framework/Versions/3.9/lib/python3.9/threading.py:1069\u001b[0m, in \u001b[0;36mThread._wait_for_tstate_lock\u001b[0;34m(self, block, timeout)\u001b[0m\n\u001b[1;32m   1067\u001b[0m \u001b[38;5;28;01mif\u001b[39;00m lock \u001b[38;5;129;01mis\u001b[39;00m \u001b[38;5;28;01mNone\u001b[39;00m:  \u001b[38;5;66;03m# already determined that the C code is done\u001b[39;00m\n\u001b[1;32m   1068\u001b[0m     \u001b[38;5;28;01massert\u001b[39;00m \u001b[38;5;28mself\u001b[39m\u001b[38;5;241m.\u001b[39m_is_stopped\n\u001b[0;32m-> 1069\u001b[0m \u001b[38;5;28;01melif\u001b[39;00m \u001b[43mlock\u001b[49m\u001b[38;5;241;43m.\u001b[39;49m\u001b[43macquire\u001b[49m\u001b[43m(\u001b[49m\u001b[43mblock\u001b[49m\u001b[43m,\u001b[49m\u001b[43m \u001b[49m\u001b[43mtimeout\u001b[49m\u001b[43m)\u001b[49m:\n\u001b[1;32m   1070\u001b[0m     lock\u001b[38;5;241m.\u001b[39mrelease()\n\u001b[1;32m   1071\u001b[0m     \u001b[38;5;28mself\u001b[39m\u001b[38;5;241m.\u001b[39m_stop()\n",
      "\u001b[0;31mKeyboardInterrupt\u001b[0m: "
     ]
    },
    {
     "name": "stdout",
     "output_type": "stream",
     "text": [
      "Recording complete.\n",
      "Recording complete.\n"
     ]
    }
   ],
   "source": [
    "import backend as be\n",
    "# reload the backend\n",
    "import importlib\n",
    "importlib.reload(be)\n",
    "be.lisinput_devices()\n",
    "id = input(\"Enter the device id: \")\n",
    "dev = be.select_input_device(int(id))\n",
    "be.run(\"moderate\", \"ataxic\", \" cp\", dev)\n"
   ]
  },
  {
   "cell_type": "code",
   "execution_count": null,
   "metadata": {},
   "outputs": [],
   "source": []
  },
  {
   "cell_type": "code",
   "execution_count": 7,
   "metadata": {},
   "outputs": [],
   "source": [
    "# ! pip install sounddevice pyautogui PyQt6 soundfile ipywidgets keyboard"
   ]
  },
  {
   "cell_type": "code",
   "execution_count": 10,
   "metadata": {},
   "outputs": [],
   "source": [
    "\n",
    "\n",
    "import sounddevice as sd\n",
    "import pyautogui as pg\n",
    "import sys\n",
    "\n",
    "from PyQt6.QtCore import QSize, Qt\n",
    "from PyQt6.QtWidgets import QApplication, QMainWindow, QPushButton, QLineEdit, QVBoxLayout, QWidget, QFileDialog, QComboBox, QLabel \n",
    "\n",
    "# backen.py\n",
    "\n",
    "import os\n",
    "import csv\n",
    "import soundfile as sf\n",
    "import ipywidgets as widgets\n",
    "import threading\n",
    "\n",
    "import time\n",
    "import keyboard\n",
    "\n",
    "\n",
    "\n",
    "import backend as bk "
   ]
  },
  {
   "cell_type": "code",
   "execution_count": null,
   "metadata": {},
   "outputs": [],
   "source": [
    "\n",
    "#  reqiurements of the app\n",
    "\n",
    "# take input from user for speaker id, severity, type, condition as text\n",
    "# select input device from the list of available devices\n",
    "# start recording \n",
    "# select dataset path\n",
    "# display the phrase to be spoken in a separate window\n",
    "\n",
    "class audioWindow(QMainWindow):\n",
    "    def __init__(self):\n",
    "        super().__init__()\n",
    "        self.setWindowTitle(\"Audio\")\n",
    "        self.setFixedSize(QSize(400, 200))\n",
    "        self.layout = QVBoxLayout() \n",
    "        self.combo = QComboBox() \n",
    "        self.combo.addItem(\"Select Device\")\n",
    "        self.populate_input_devices()\n",
    "        self.layout.addWidget(self.combo)\n",
    "        self.widget = QWidget()\n",
    "        self.widget.setLayout(self.layout)\n",
    "        self.setCentralWidget(self.widget)\n",
    "        self.deviceIndex = self.select_input_device()  # Moved this line to after self.combo is defined\n",
    "        self.combo.setCurrentIndex(self.deviceIndex)\n",
    "    def populate_input_devices(self):\n",
    "        devices = sd.query_devices()\n",
    "        input_devices = [f\"{idx}: {device['name']}\" for idx, device in enumerate(devices) if device['max_input_channels'] > 0]\n",
    "        self.combo.addItems(input_devices)\n",
    "\n",
    "    def select_input_device(self):\n",
    "        device_index = self.combo.currentIndex()\n",
    "        print(f\"Selected input device: {bk.select_input_device(device_index)}\")\n",
    "        return device_index\n",
    "class phraseWindow(QMainWindow):\n",
    "    def __init__(self):\n",
    "        super().__init__()\n",
    "        self.take_count = 0\n",
    "        self.phrase_index = 0\n",
    "        self.setWindowTitle(\"Phrase\")\n",
    "        self.setFixedSize(QSize(400, 200))\n",
    "        self.csv_path = bk.PhrasecsvPath\n",
    "        print(self.csv_path)\n",
    "        self.layout = QVBoxLayout() \n",
    "        self.phrases = QLabel()\n",
    "        self.layout.addWidget(self.phrases) \n",
    "        self.status = QLabel()\n",
    "        self.layout.addWidget(self.status)\n",
    "        self.widget = QWidget()\n",
    "        self.widget.setLayout(self.layout)\n",
    "        self.setCentralWidget(self.widget)\n",
    "        self.main = MainWindow()\n",
    "        self.severeity = self.main.severity\n",
    "        self.type_ = self.main.type_\n",
    "        self.condition = self.main.condition\n",
    "        self.deviceId = self.main.deviceId\n",
    "        self.update_phrase()\n",
    "        self.record()\n",
    "    def record(self): \n",
    "            bk.run(self.severeity, self.type_, self.condition, self.deviceId) \n",
    "            self.status.setText(bk.status)\n",
    "    def update_phrase(self):\n",
    "        try:\n",
    "            next_phrase = next(bk.get_phrase(self.csv_path))\n",
    "            self.phrases.setText(next_phrase)\n",
    "        except StopIteration:\n",
    "            pass  # Handle the end of the phrases here, if necessary\n",
    "class metadataWindow(QMainWindow):\n",
    "    def __init__(self):\n",
    "        super().__init__()\n",
    "        self.setWindowTitle(\"Metadata\")\n",
    "        self.setFixedSize(QSize(400, 200))\n",
    "        self.layout = QVBoxLayout()\n",
    "        self.severity = QLineEdit()\n",
    "        self.type_ = QLineEdit()\n",
    "        self.condition = QLineEdit() \n",
    "        self.severity.setPlaceholderText(\"Severity\")\n",
    "        self.type_.setPlaceholderText(\"Type\")\n",
    "        self.condition.setPlaceholderText(\"Condition\")\n",
    "        self.saveButton = QPushButton(\"Save\", self)\n",
    "        self.saveButton.setGeometry(100, 150, 200, 50)\n",
    "        self.saveButton.clicked.connect(self.save_metadata)  \n",
    "        self.layout.addWidget(self.saveButton)\n",
    "        self.layout.addWidget(self.severity)\n",
    "        self.layout.addWidget(self.type_)\n",
    "        self.layout.addWidget(self.condition) \n",
    "        self.widget = QWidget()\n",
    "        self.widget.setLayout(self.layout)\n",
    "        self.setCentralWidget(self.widget)\n",
    "    def save_metadata(self):\n",
    "        self.severity = self.severity.text()\n",
    "        self.type_ = self.type_.text()\n",
    "        self.condition = self.condition.text()\n",
    "        self.close()\n",
    "     \n",
    "            \n",
    "class settingsWindow(QMainWindow):\n",
    "    def __init__(self):\n",
    "        super().__init__()\n",
    "        self.setWindowTitle(\"Settings\")\n",
    "        self.setFixedSize(QSize(400, 200))\n",
    "        self.metadata = metadataWindow() \n",
    "        self.audiosettings = audioWindow()\n",
    "        self.deviceId = self.audiosettings.deviceIndex \n",
    "        self.severity = self.metadata.severity\n",
    "        self.type_ = self.metadata.type_\n",
    "        self.condition =  self.metadata.condition\n",
    "        listButton = QPushButton(\"Input Devices\", self)\n",
    "        listButton.setGeometry(100, 100, 200, 50) \n",
    "        listButton.clicked.connect(self.audiosettings.show)\n",
    "        setmetadataButton = QPushButton(\"Set Metadata\", self)\n",
    "        setmetadataButton.setGeometry(100, 150, 200, 50)\n",
    "        setmetadataButton.clicked.connect(self.metadata.show)\n",
    "class MainWindow(QMainWindow):\n",
    "    def __init__(self):\n",
    "        super().__init__()\n",
    "        self.setWindowTitle(\"Dysscribe\")\n",
    "        self.setFixedSize(QSize(400, 200))\n",
    "        recButton = QPushButton(\"Start Recording\", self)\n",
    "        recButton.setGeometry(100, 100, 200, 50)\n",
    "        recButton.clicked.connect(self.start_recording)\n",
    "        settingsButton = QPushButton(\"Settings\", self)\n",
    "        settingsButton.setGeometry(100, 150, 200, 50)\n",
    "        settingsButton.clicked.connect(self.open_settings)\n",
    "        self.settings = settingsWindow()\n",
    "        self.type_ = self.settings.type_\n",
    "        self.severity = self.settings.severity\n",
    "        self.condition = self.settings.condition\n",
    "        self.deviceId = self.settings.deviceId\n",
    "        self.speaker_id = bk.get_next_id(bk.DataCsvPath, bk.recsdir)\n",
    "    def start_recording(self):\n",
    "        # Get speaker ID, severity, type, condit\n",
    "        # ion \n",
    "\n",
    "        self.phrase = phraseWindow()\n",
    "        self.phrase.show()\n",
    "         \n",
    "        \n",
    "    def open_settings(self):\n",
    "        self.settings = settingsWindow()\n",
    "        self.settings.show()\n",
    "\n",
    "\n",
    "app = QApplication(sys.argv)\n",
    "\n",
    "window = MainWindow()\n",
    "window.show()\n",
    "\n",
    "app.exec()"
   ]
  },
  {
   "cell_type": "code",
   "execution_count": 12,
   "metadata": {},
   "outputs": [
    {
     "name": "stdout",
     "output_type": "stream",
     "text": [
      "Defaulting to user installation because normal site-packages is not writeable\n",
      "Collecting pynput\n",
      "  Downloading pynput-1.7.7-py2.py3-none-any.whl.metadata (31 kB)\n",
      "Requirement already satisfied: six in /Applications/Xcode.app/Contents/Developer/Library/Frameworks/Python3.framework/Versions/3.9/lib/python3.9/site-packages (from pynput) (1.15.0)\n",
      "Requirement already satisfied: pyobjc-framework-ApplicationServices>=8.0 in /Users/leon/Library/Python/3.9/lib/python/site-packages (from pynput) (10.3.1)\n",
      "Requirement already satisfied: pyobjc-framework-Quartz>=8.0 in /Users/leon/Library/Python/3.9/lib/python/site-packages (from pynput) (10.3.1)\n",
      "Requirement already satisfied: pyobjc-core>=10.3.1 in /Users/leon/Library/Python/3.9/lib/python/site-packages (from pyobjc-framework-ApplicationServices>=8.0->pynput) (10.3.1)\n",
      "Requirement already satisfied: pyobjc-framework-Cocoa>=10.3.1 in /Users/leon/Library/Python/3.9/lib/python/site-packages (from pyobjc-framework-ApplicationServices>=8.0->pynput) (10.3.1)\n",
      "Requirement already satisfied: pyobjc-framework-CoreText>=10.3.1 in /Users/leon/Library/Python/3.9/lib/python/site-packages (from pyobjc-framework-ApplicationServices>=8.0->pynput) (10.3.1)\n",
      "Downloading pynput-1.7.7-py2.py3-none-any.whl (90 kB)\n",
      "\u001b[2K   \u001b[90m━━━━━━━━━━━━━━━━━━━━━━━━━━━━━━━━━━━━━━━━\u001b[0m \u001b[32m90.2/90.2 kB\u001b[0m \u001b[31m1.9 MB/s\u001b[0m eta \u001b[36m0:00:00\u001b[0ma \u001b[36m0:00:01\u001b[0m\n",
      "\u001b[?25hInstalling collected packages: pynput\n",
      "Successfully installed pynput-1.7.7\n",
      "\n",
      "\u001b[1m[\u001b[0m\u001b[34;49mnotice\u001b[0m\u001b[1;39;49m]\u001b[0m\u001b[39;49m A new release of pip is available: \u001b[0m\u001b[31;49m24.0\u001b[0m\u001b[39;49m -> \u001b[0m\u001b[32;49m24.3.1\u001b[0m\n",
      "\u001b[1m[\u001b[0m\u001b[34;49mnotice\u001b[0m\u001b[1;39;49m]\u001b[0m\u001b[39;49m To update, run: \u001b[0m\u001b[32;49m/Applications/Xcode.app/Contents/Developer/usr/bin/python3 -m pip install --upgrade pip\u001b[0m\n",
      "Note: you may need to restart the kernel to use updated packages.\n"
     ]
    }
   ],
   "source": [
    "pip install pynput"
   ]
  },
  {
   "cell_type": "code",
   "execution_count": null,
   "metadata": {},
   "outputs": [],
   "source": []
  },
  {
   "cell_type": "code",
   "execution_count": null,
   "metadata": {},
   "outputs": [],
   "source": []
  },
  {
   "cell_type": "code",
   "execution_count": null,
   "metadata": {},
   "outputs": [],
   "source": []
  },
  {
   "cell_type": "code",
   "execution_count": 9,
   "metadata": {},
   "outputs": [
    {
     "data": {
      "text/plain": [
       "' '"
      ]
     },
     "execution_count": 9,
     "metadata": {},
     "output_type": "execute_result"
    }
   ],
   "source": [
    "value = \n",
    "value"
   ]
  },
  {
   "cell_type": "code",
   "execution_count": null,
   "metadata": {},
   "outputs": [],
   "source": []
  },
  {
   "cell_type": "code",
   "execution_count": null,
   "metadata": {},
   "outputs": [],
   "source": []
  },
  {
   "cell_type": "code",
   "execution_count": null,
   "metadata": {},
   "outputs": [],
   "source": []
  },
  {
   "cell_type": "code",
   "execution_count": 3,
   "metadata": {},
   "outputs": [
    {
     "name": "stdout",
     "output_type": "stream",
     "text": [
      "Press SPACE Key to Start Recording and ESC to Stop\n",
      "Key.ctrl\n",
      "Key.right\n",
      "Key.ctrl\n",
      "Key.right\n",
      "Key.ctrl\n",
      "Key.right\n",
      "Key.ctrl\n",
      "Key.right\n",
      "Key.right\n"
     ]
    },
    {
     "ename": "KeyboardInterrupt",
     "evalue": "",
     "output_type": "error",
     "traceback": [
      "\u001b[0;31m---------------------------------------------------------------------------\u001b[0m",
      "\u001b[0;31mKeyboardInterrupt\u001b[0m                         Traceback (most recent call last)",
      "Cell \u001b[0;32mIn[3], line 14\u001b[0m\n\u001b[1;32m     12\u001b[0m \u001b[38;5;28;01mwith\u001b[39;00m keyboard\u001b[38;5;241m.\u001b[39mListener(on_press\u001b[38;5;241m=\u001b[39mon_press) \u001b[38;5;28;01mas\u001b[39;00m listener:\n\u001b[1;32m     13\u001b[0m     \u001b[38;5;28mprint\u001b[39m(\u001b[38;5;124m\"\u001b[39m\u001b[38;5;124mPress SPACE Key to Start Recording and ESC to Stop\u001b[39m\u001b[38;5;124m\"\u001b[39m)\n\u001b[0;32m---> 14\u001b[0m     \u001b[43mlistener\u001b[49m\u001b[38;5;241;43m.\u001b[39;49m\u001b[43mjoin\u001b[49m\u001b[43m(\u001b[49m\u001b[43m)\u001b[49m\n\u001b[1;32m     15\u001b[0m     \u001b[38;5;28mprint\u001b[39m(\u001b[38;5;124m'\u001b[39m\u001b[38;5;124mlol\u001b[39m\u001b[38;5;124m'\u001b[39m)\n",
      "File \u001b[0;32m~/Library/Python/3.9/lib/python/site-packages/pynput/_util/__init__.py:271\u001b[0m, in \u001b[0;36mAbstractListener.join\u001b[0;34m(self, timeout, *args)\u001b[0m\n\u001b[1;32m    269\u001b[0m \u001b[38;5;28;01mdef\u001b[39;00m \u001b[38;5;21mjoin\u001b[39m(\u001b[38;5;28mself\u001b[39m, timeout\u001b[38;5;241m=\u001b[39m\u001b[38;5;28;01mNone\u001b[39;00m, \u001b[38;5;241m*\u001b[39margs):\n\u001b[1;32m    270\u001b[0m     start \u001b[38;5;241m=\u001b[39m time\u001b[38;5;241m.\u001b[39mtime()\n\u001b[0;32m--> 271\u001b[0m     \u001b[38;5;28;43msuper\u001b[39;49m\u001b[43m(\u001b[49m\u001b[43mAbstractListener\u001b[49m\u001b[43m,\u001b[49m\u001b[43m \u001b[49m\u001b[38;5;28;43mself\u001b[39;49m\u001b[43m)\u001b[49m\u001b[38;5;241;43m.\u001b[39;49m\u001b[43mjoin\u001b[49m\u001b[43m(\u001b[49m\u001b[43mtimeout\u001b[49m\u001b[43m,\u001b[49m\u001b[43m \u001b[49m\u001b[38;5;241;43m*\u001b[39;49m\u001b[43margs\u001b[49m\u001b[43m)\u001b[49m\n\u001b[1;32m    272\u001b[0m     timeout \u001b[38;5;241m=\u001b[39m \u001b[38;5;28mmax\u001b[39m(\u001b[38;5;241m0.0\u001b[39m, timeout \u001b[38;5;241m-\u001b[39m (time\u001b[38;5;241m.\u001b[39mtime() \u001b[38;5;241m-\u001b[39m start)) \\\n\u001b[1;32m    273\u001b[0m         \u001b[38;5;28;01mif\u001b[39;00m timeout \u001b[38;5;129;01mis\u001b[39;00m \u001b[38;5;129;01mnot\u001b[39;00m \u001b[38;5;28;01mNone\u001b[39;00m \\\n\u001b[1;32m    274\u001b[0m         \u001b[38;5;28;01melse\u001b[39;00m \u001b[38;5;28;01mNone\u001b[39;00m\n\u001b[1;32m    276\u001b[0m     \u001b[38;5;66;03m# Reraise any exceptions; make sure not to block if a timeout was\u001b[39;00m\n\u001b[1;32m    277\u001b[0m     \u001b[38;5;66;03m# provided\u001b[39;00m\n",
      "File \u001b[0;32m/Applications/Xcode.app/Contents/Developer/Library/Frameworks/Python3.framework/Versions/3.9/lib/python3.9/threading.py:1053\u001b[0m, in \u001b[0;36mThread.join\u001b[0;34m(self, timeout)\u001b[0m\n\u001b[1;32m   1050\u001b[0m     \u001b[38;5;28;01mraise\u001b[39;00m \u001b[38;5;167;01mRuntimeError\u001b[39;00m(\u001b[38;5;124m\"\u001b[39m\u001b[38;5;124mcannot join current thread\u001b[39m\u001b[38;5;124m\"\u001b[39m)\n\u001b[1;32m   1052\u001b[0m \u001b[38;5;28;01mif\u001b[39;00m timeout \u001b[38;5;129;01mis\u001b[39;00m \u001b[38;5;28;01mNone\u001b[39;00m:\n\u001b[0;32m-> 1053\u001b[0m     \u001b[38;5;28;43mself\u001b[39;49m\u001b[38;5;241;43m.\u001b[39;49m\u001b[43m_wait_for_tstate_lock\u001b[49m\u001b[43m(\u001b[49m\u001b[43m)\u001b[49m\n\u001b[1;32m   1054\u001b[0m \u001b[38;5;28;01melse\u001b[39;00m:\n\u001b[1;32m   1055\u001b[0m     \u001b[38;5;66;03m# the behavior of a negative timeout isn't documented, but\u001b[39;00m\n\u001b[1;32m   1056\u001b[0m     \u001b[38;5;66;03m# historically .join(timeout=x) for x<0 has acted as if timeout=0\u001b[39;00m\n\u001b[1;32m   1057\u001b[0m     \u001b[38;5;28mself\u001b[39m\u001b[38;5;241m.\u001b[39m_wait_for_tstate_lock(timeout\u001b[38;5;241m=\u001b[39m\u001b[38;5;28mmax\u001b[39m(timeout, \u001b[38;5;241m0\u001b[39m))\n",
      "File \u001b[0;32m/Applications/Xcode.app/Contents/Developer/Library/Frameworks/Python3.framework/Versions/3.9/lib/python3.9/threading.py:1069\u001b[0m, in \u001b[0;36mThread._wait_for_tstate_lock\u001b[0;34m(self, block, timeout)\u001b[0m\n\u001b[1;32m   1067\u001b[0m \u001b[38;5;28;01mif\u001b[39;00m lock \u001b[38;5;129;01mis\u001b[39;00m \u001b[38;5;28;01mNone\u001b[39;00m:  \u001b[38;5;66;03m# already determined that the C code is done\u001b[39;00m\n\u001b[1;32m   1068\u001b[0m     \u001b[38;5;28;01massert\u001b[39;00m \u001b[38;5;28mself\u001b[39m\u001b[38;5;241m.\u001b[39m_is_stopped\n\u001b[0;32m-> 1069\u001b[0m \u001b[38;5;28;01melif\u001b[39;00m \u001b[43mlock\u001b[49m\u001b[38;5;241;43m.\u001b[39;49m\u001b[43macquire\u001b[49m\u001b[43m(\u001b[49m\u001b[43mblock\u001b[49m\u001b[43m,\u001b[49m\u001b[43m \u001b[49m\u001b[43mtimeout\u001b[49m\u001b[43m)\u001b[49m:\n\u001b[1;32m   1070\u001b[0m     lock\u001b[38;5;241m.\u001b[39mrelease()\n\u001b[1;32m   1071\u001b[0m     \u001b[38;5;28mself\u001b[39m\u001b[38;5;241m.\u001b[39m_stop()\n",
      "\u001b[0;31mKeyboardInterrupt\u001b[0m: "
     ]
    }
   ],
   "source": [
    "from pynput import keyboard\n",
    "\n",
    "def on_press(key):\n",
    "    print(key)\n",
    "        # try:\n",
    "        #     if key.char == 'r':\n",
    "        #         print(\"Space key pressed\")\n",
    "        # except AttributeError:\n",
    "        #     if key == keyboard.Key.esc:\n",
    "        #         return False\n",
    "        \n",
    "with keyboard.Listener(on_press=on_press) as listener:\n",
    "    print(\"Press SPACE Key to Start Recording and ESC to Stop\")\n",
    "    listener.join()\n",
    "    print('lol')"
   ]
  },
  {
   "cell_type": "code",
   "execution_count": null,
   "metadata": {},
   "outputs": [],
   "source": []
  },
  {
   "cell_type": "code",
   "execution_count": null,
   "metadata": {},
   "outputs": [],
   "source": []
  },
  {
   "cell_type": "code",
   "execution_count": null,
   "metadata": {},
   "outputs": [],
   "source": []
  },
  {
   "cell_type": "code",
   "execution_count": null,
   "metadata": {},
   "outputs": [],
   "source": []
  },
  {
   "cell_type": "code",
   "execution_count": null,
   "metadata": {},
   "outputs": [],
   "source": []
  },
  {
   "cell_type": "code",
   "execution_count": null,
   "metadata": {},
   "outputs": [],
   "source": []
  },
  {
   "cell_type": "code",
   "execution_count": null,
   "metadata": {},
   "outputs": [],
   "source": [
    "import keyboard"
   ]
  },
  {
   "cell_type": "code",
   "execution_count": null,
   "metadata": {},
   "outputs": [],
   "source": []
  },
  {
   "cell_type": "code",
   "execution_count": null,
   "metadata": {},
   "outputs": [],
   "source": []
  },
  {
   "cell_type": "code",
   "execution_count": null,
   "metadata": {},
   "outputs": [],
   "source": []
  },
  {
   "cell_type": "code",
   "execution_count": null,
   "metadata": {},
   "outputs": [],
   "source": []
  },
  {
   "cell_type": "code",
   "execution_count": null,
   "metadata": {},
   "outputs": [],
   "source": []
  },
  {
   "cell_type": "code",
   "execution_count": null,
   "metadata": {},
   "outputs": [],
   "source": []
  },
  {
   "cell_type": "code",
   "execution_count": null,
   "metadata": {},
   "outputs": [],
   "source": []
  },
  {
   "cell_type": "code",
   "execution_count": null,
   "metadata": {},
   "outputs": [],
   "source": []
  },
  {
   "cell_type": "code",
   "execution_count": null,
   "metadata": {},
   "outputs": [],
   "source": []
  },
  {
   "cell_type": "code",
   "execution_count": null,
   "metadata": {},
   "outputs": [],
   "source": []
  },
  {
   "cell_type": "code",
   "execution_count": null,
   "metadata": {},
   "outputs": [],
   "source": []
  },
  {
   "cell_type": "code",
   "execution_count": null,
   "metadata": {},
   "outputs": [],
   "source": []
  },
  {
   "cell_type": "code",
   "execution_count": null,
   "metadata": {},
   "outputs": [],
   "source": []
  },
  {
   "cell_type": "code",
   "execution_count": null,
   "metadata": {},
   "outputs": [],
   "source": []
  },
  {
   "cell_type": "code",
   "execution_count": null,
   "metadata": {},
   "outputs": [],
   "source": []
  },
  {
   "cell_type": "code",
   "execution_count": null,
   "metadata": {},
   "outputs": [],
   "source": []
  },
  {
   "cell_type": "code",
   "execution_count": null,
   "metadata": {},
   "outputs": [],
   "source": []
  },
  {
   "cell_type": "code",
   "execution_count": null,
   "metadata": {},
   "outputs": [],
   "source": []
  },
  {
   "cell_type": "code",
   "execution_count": null,
   "metadata": {},
   "outputs": [],
   "source": []
  },
  {
   "cell_type": "code",
   "execution_count": null,
   "metadata": {},
   "outputs": [],
   "source": []
  },
  {
   "cell_type": "code",
   "execution_count": null,
   "metadata": {},
   "outputs": [],
   "source": []
  },
  {
   "cell_type": "code",
   "execution_count": null,
   "metadata": {},
   "outputs": [],
   "source": []
  },
  {
   "cell_type": "code",
   "execution_count": null,
   "metadata": {},
   "outputs": [],
   "source": []
  },
  {
   "cell_type": "code",
   "execution_count": null,
   "metadata": {},
   "outputs": [],
   "source": []
  },
  {
   "cell_type": "code",
   "execution_count": null,
   "metadata": {},
   "outputs": [],
   "source": []
  },
  {
   "cell_type": "code",
   "execution_count": null,
   "metadata": {},
   "outputs": [],
   "source": []
  },
  {
   "cell_type": "code",
   "execution_count": null,
   "metadata": {},
   "outputs": [],
   "source": []
  },
  {
   "cell_type": "code",
   "execution_count": null,
   "metadata": {},
   "outputs": [],
   "source": []
  },
  {
   "cell_type": "code",
   "execution_count": null,
   "metadata": {},
   "outputs": [],
   "source": []
  },
  {
   "cell_type": "code",
   "execution_count": null,
   "metadata": {},
   "outputs": [],
   "source": []
  },
  {
   "cell_type": "code",
   "execution_count": null,
   "metadata": {},
   "outputs": [],
   "source": []
  },
  {
   "cell_type": "code",
   "execution_count": null,
   "metadata": {},
   "outputs": [],
   "source": []
  },
  {
   "cell_type": "code",
   "execution_count": null,
   "metadata": {},
   "outputs": [],
   "source": []
  },
  {
   "cell_type": "code",
   "execution_count": null,
   "metadata": {},
   "outputs": [],
   "source": []
  },
  {
   "cell_type": "code",
   "execution_count": null,
   "metadata": {},
   "outputs": [],
   "source": []
  },
  {
   "cell_type": "code",
   "execution_count": null,
   "metadata": {},
   "outputs": [],
   "source": []
  },
  {
   "cell_type": "code",
   "execution_count": null,
   "metadata": {},
   "outputs": [],
   "source": []
  },
  {
   "cell_type": "code",
   "execution_count": null,
   "metadata": {},
   "outputs": [],
   "source": []
  },
  {
   "cell_type": "code",
   "execution_count": null,
   "metadata": {},
   "outputs": [],
   "source": []
  },
  {
   "cell_type": "code",
   "execution_count": null,
   "metadata": {},
   "outputs": [],
   "source": []
  },
  {
   "cell_type": "code",
   "execution_count": null,
   "metadata": {},
   "outputs": [],
   "source": []
  },
  {
   "cell_type": "code",
   "execution_count": null,
   "metadata": {},
   "outputs": [],
   "source": []
  },
  {
   "cell_type": "code",
   "execution_count": null,
   "metadata": {},
   "outputs": [],
   "source": []
  },
  {
   "cell_type": "code",
   "execution_count": null,
   "metadata": {},
   "outputs": [],
   "source": []
  },
  {
   "cell_type": "code",
   "execution_count": null,
   "metadata": {},
   "outputs": [],
   "source": []
  },
  {
   "cell_type": "code",
   "execution_count": null,
   "metadata": {},
   "outputs": [],
   "source": []
  },
  {
   "cell_type": "code",
   "execution_count": null,
   "metadata": {},
   "outputs": [],
   "source": []
  },
  {
   "cell_type": "code",
   "execution_count": null,
   "metadata": {},
   "outputs": [],
   "source": []
  },
  {
   "cell_type": "code",
   "execution_count": null,
   "metadata": {},
   "outputs": [],
   "source": []
  },
  {
   "cell_type": "code",
   "execution_count": null,
   "metadata": {},
   "outputs": [],
   "source": []
  },
  {
   "cell_type": "code",
   "execution_count": null,
   "metadata": {},
   "outputs": [],
   "source": []
  },
  {
   "cell_type": "code",
   "execution_count": null,
   "metadata": {},
   "outputs": [],
   "source": []
  },
  {
   "cell_type": "code",
   "execution_count": null,
   "metadata": {},
   "outputs": [],
   "source": []
  },
  {
   "cell_type": "code",
   "execution_count": null,
   "metadata": {},
   "outputs": [],
   "source": []
  },
  {
   "cell_type": "code",
   "execution_count": 6,
   "metadata": {},
   "outputs": [
    {
     "name": "stdout",
     "output_type": "stream",
     "text": [
      "Available input devices:\n",
      "1: MacBook Pro Microphone\n",
      "Invalid input. Please enter a valid device index.\n",
      "\n",
      "Recording 1 for phrase: Hello, my name is John.\n",
      "Please read the following phrase:\n",
      "\"Hello, my name is John.\"\n",
      "Recording...\n",
      "Recording complete.\n",
      "\n",
      "Recording 2 for phrase: Hello, my name is John.\n",
      "Please read the following phrase:\n",
      "\"Hello, my name is John.\"\n"
     ]
    },
    {
     "ename": "KeyboardInterrupt",
     "evalue": "Interrupted by user",
     "output_type": "error",
     "traceback": [
      "\u001b[0;31m---------------------------------------------------------------------------\u001b[0m",
      "\u001b[0;31mKeyboardInterrupt\u001b[0m                         Traceback (most recent call last)",
      "Cell \u001b[0;32mIn[6], line 12\u001b[0m\n\u001b[1;32m      9\u001b[0m     bk\u001b[38;5;241m.\u001b[39mrun()\n\u001b[1;32m     11\u001b[0m \u001b[38;5;28;01mif\u001b[39;00m \u001b[38;5;18m__name__\u001b[39m \u001b[38;5;241m==\u001b[39m \u001b[38;5;124m\"\u001b[39m\u001b[38;5;124m__main__\u001b[39m\u001b[38;5;124m\"\u001b[39m:\n\u001b[0;32m---> 12\u001b[0m     \u001b[43mmain\u001b[49m\u001b[43m(\u001b[49m\u001b[43m)\u001b[49m\n",
      "Cell \u001b[0;32mIn[6], line 9\u001b[0m, in \u001b[0;36mmain\u001b[0;34m()\u001b[0m\n\u001b[1;32m      7\u001b[0m \u001b[38;5;28;01mdef\u001b[39;00m \u001b[38;5;21mmain\u001b[39m():\n\u001b[1;32m      8\u001b[0m     \u001b[38;5;66;03m# Call the main function from the backend module\u001b[39;00m\n\u001b[0;32m----> 9\u001b[0m     \u001b[43mbk\u001b[49m\u001b[38;5;241;43m.\u001b[39;49m\u001b[43mrun\u001b[49m\u001b[43m(\u001b[49m\u001b[43m)\u001b[49m\n",
      "File \u001b[0;32m~/Documents/dev/dysscribe/src/backend.py:122\u001b[0m, in \u001b[0;36mrun\u001b[0;34m()\u001b[0m\n\u001b[1;32m    120\u001b[0m             \u001b[38;5;28mprint\u001b[39m(\u001b[38;5;124m\"\u001b[39m\u001b[38;5;124mPlease read the following phrase:\u001b[39m\u001b[38;5;124m\"\u001b[39m)\n\u001b[1;32m    121\u001b[0m             \u001b[38;5;28mprint\u001b[39m(\u001b[38;5;124mf\u001b[39m\u001b[38;5;124m\"\u001b[39m\u001b[38;5;130;01m\\\"\u001b[39;00m\u001b[38;5;132;01m{\u001b[39;00mphrase\u001b[38;5;241m.\u001b[39mstrip()\u001b[38;5;132;01m}\u001b[39;00m\u001b[38;5;130;01m\\\"\u001b[39;00m\u001b[38;5;124m\"\u001b[39m)\n\u001b[0;32m--> 122\u001b[0m             \u001b[38;5;28;43minput\u001b[39;49m\u001b[43m(\u001b[49m\u001b[38;5;124;43m\"\u001b[39;49m\u001b[38;5;124;43mPress Enter when you\u001b[39;49m\u001b[38;5;124;43m'\u001b[39;49m\u001b[38;5;124;43mre ready to start recording...\u001b[39;49m\u001b[38;5;124;43m\"\u001b[39;49m\u001b[43m)\u001b[49m\n\u001b[1;32m    124\u001b[0m             widgets\u001b[38;5;241m.\u001b[39mHTML(\n\u001b[1;32m    125\u001b[0m     value\u001b[38;5;241m=\u001b[39m\u001b[38;5;124m\"\u001b[39m\u001b[38;5;124mHello <b>World</b>\u001b[39m\u001b[38;5;124m\"\u001b[39m,\n\u001b[1;32m    126\u001b[0m     placeholder\u001b[38;5;241m=\u001b[39m\u001b[38;5;124m'\u001b[39m\u001b[38;5;124mSome HTML\u001b[39m\u001b[38;5;124m'\u001b[39m,\n\u001b[1;32m    127\u001b[0m     description\u001b[38;5;241m=\u001b[39m\u001b[38;5;124m'\u001b[39m\u001b[38;5;124mSome HTML\u001b[39m\u001b[38;5;124m'\u001b[39m,\n\u001b[1;32m    128\u001b[0m )             \u001b[38;5;66;03m# Record audio\u001b[39;00m\n\u001b[1;32m    129\u001b[0m             filename \u001b[38;5;241m=\u001b[39m \u001b[38;5;124mf\u001b[39m\u001b[38;5;124m\"\u001b[39m\u001b[38;5;124mphrase_\u001b[39m\u001b[38;5;132;01m{\u001b[39;00mphrases\u001b[38;5;241m.\u001b[39mindex(phrase)\u001b[38;5;241m+\u001b[39m\u001b[38;5;241m1\u001b[39m\u001b[38;5;132;01m}\u001b[39;00m\u001b[38;5;124m_take_\u001b[39m\u001b[38;5;132;01m{\u001b[39;00mtake\u001b[38;5;132;01m}\u001b[39;00m\u001b[38;5;124m.wav\u001b[39m\u001b[38;5;124m\"\u001b[39m\n",
      "File \u001b[0;32m~/Library/Python/3.9/lib/python/site-packages/ipykernel/kernelbase.py:1282\u001b[0m, in \u001b[0;36mKernel.raw_input\u001b[0;34m(self, prompt)\u001b[0m\n\u001b[1;32m   1280\u001b[0m     msg \u001b[38;5;241m=\u001b[39m \u001b[38;5;124m\"\u001b[39m\u001b[38;5;124mraw_input was called, but this frontend does not support input requests.\u001b[39m\u001b[38;5;124m\"\u001b[39m\n\u001b[1;32m   1281\u001b[0m     \u001b[38;5;28;01mraise\u001b[39;00m StdinNotImplementedError(msg)\n\u001b[0;32m-> 1282\u001b[0m \u001b[38;5;28;01mreturn\u001b[39;00m \u001b[38;5;28;43mself\u001b[39;49m\u001b[38;5;241;43m.\u001b[39;49m\u001b[43m_input_request\u001b[49m\u001b[43m(\u001b[49m\n\u001b[1;32m   1283\u001b[0m \u001b[43m    \u001b[49m\u001b[38;5;28;43mstr\u001b[39;49m\u001b[43m(\u001b[49m\u001b[43mprompt\u001b[49m\u001b[43m)\u001b[49m\u001b[43m,\u001b[49m\n\u001b[1;32m   1284\u001b[0m \u001b[43m    \u001b[49m\u001b[38;5;28;43mself\u001b[39;49m\u001b[38;5;241;43m.\u001b[39;49m\u001b[43m_parent_ident\u001b[49m\u001b[43m[\u001b[49m\u001b[38;5;124;43m\"\u001b[39;49m\u001b[38;5;124;43mshell\u001b[39;49m\u001b[38;5;124;43m\"\u001b[39;49m\u001b[43m]\u001b[49m\u001b[43m,\u001b[49m\n\u001b[1;32m   1285\u001b[0m \u001b[43m    \u001b[49m\u001b[38;5;28;43mself\u001b[39;49m\u001b[38;5;241;43m.\u001b[39;49m\u001b[43mget_parent\u001b[49m\u001b[43m(\u001b[49m\u001b[38;5;124;43m\"\u001b[39;49m\u001b[38;5;124;43mshell\u001b[39;49m\u001b[38;5;124;43m\"\u001b[39;49m\u001b[43m)\u001b[49m\u001b[43m,\u001b[49m\n\u001b[1;32m   1286\u001b[0m \u001b[43m    \u001b[49m\u001b[43mpassword\u001b[49m\u001b[38;5;241;43m=\u001b[39;49m\u001b[38;5;28;43;01mFalse\u001b[39;49;00m\u001b[43m,\u001b[49m\n\u001b[1;32m   1287\u001b[0m \u001b[43m\u001b[49m\u001b[43m)\u001b[49m\n",
      "File \u001b[0;32m~/Library/Python/3.9/lib/python/site-packages/ipykernel/kernelbase.py:1325\u001b[0m, in \u001b[0;36mKernel._input_request\u001b[0;34m(self, prompt, ident, parent, password)\u001b[0m\n\u001b[1;32m   1322\u001b[0m \u001b[38;5;28;01mexcept\u001b[39;00m \u001b[38;5;167;01mKeyboardInterrupt\u001b[39;00m:\n\u001b[1;32m   1323\u001b[0m     \u001b[38;5;66;03m# re-raise KeyboardInterrupt, to truncate traceback\u001b[39;00m\n\u001b[1;32m   1324\u001b[0m     msg \u001b[38;5;241m=\u001b[39m \u001b[38;5;124m\"\u001b[39m\u001b[38;5;124mInterrupted by user\u001b[39m\u001b[38;5;124m\"\u001b[39m\n\u001b[0;32m-> 1325\u001b[0m     \u001b[38;5;28;01mraise\u001b[39;00m \u001b[38;5;167;01mKeyboardInterrupt\u001b[39;00m(msg) \u001b[38;5;28;01mfrom\u001b[39;00m \u001b[38;5;28;01mNone\u001b[39;00m\n\u001b[1;32m   1326\u001b[0m \u001b[38;5;28;01mexcept\u001b[39;00m \u001b[38;5;167;01mException\u001b[39;00m:\n\u001b[1;32m   1327\u001b[0m     \u001b[38;5;28mself\u001b[39m\u001b[38;5;241m.\u001b[39mlog\u001b[38;5;241m.\u001b[39mwarning(\u001b[38;5;124m\"\u001b[39m\u001b[38;5;124mInvalid Message:\u001b[39m\u001b[38;5;124m\"\u001b[39m, exc_info\u001b[38;5;241m=\u001b[39m\u001b[38;5;28;01mTrue\u001b[39;00m)\n",
      "\u001b[0;31mKeyboardInterrupt\u001b[0m: Interrupted by user"
     ]
    }
   ],
   "source": [
    "import importlib\n",
    "import backend as bk\n",
    "\n",
    "# Reload the backend module if running in an interactive environment\n",
    "importlib.reload(bk)\n",
    "\n",
    "def main():\n",
    "    # Call the main function from the backend module\n",
    "    bk.run()\n",
    "if __name__ == \"__main__\":\n",
    "    main()\n",
    "\n"
   ]
  },
  {
   "cell_type": "markdown",
   "metadata": {},
   "source": []
  }
 ],
 "metadata": {
  "kernelspec": {
   "display_name": "Python 3",
   "language": "python",
   "name": "python3"
  },
  "language_info": {
   "codemirror_mode": {
    "name": "ipython",
    "version": 3
   },
   "file_extension": ".py",
   "mimetype": "text/x-python",
   "name": "python",
   "nbconvert_exporter": "python",
   "pygments_lexer": "ipython3",
   "version": "3.9.6"
  }
 },
 "nbformat": 4,
 "nbformat_minor": 2
}
